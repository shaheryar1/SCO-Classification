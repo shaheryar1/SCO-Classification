{
 "cells": [
  {
   "cell_type": "markdown",
   "metadata": {
    "colab_type": "text",
    "id": "06vFNVqzLgaf"
   },
   "source": [
    "\n",
    "\n",
    "## **Loading Dataset from Drive**"
   ]
  },
  {
   "cell_type": "code",
   "execution_count": 1,
   "metadata": {
    "colab": {},
    "colab_type": "code",
    "id": "0FDNkY59GNwP"
   },
   "outputs": [],
   "source": [
    "import os\n",
    "import pandas as pd\n",
    "import numpy as np\n",
    "\n",
    "\n",
    "import cv2"
   ]
  },
  {
   "cell_type": "code",
   "execution_count": null,
   "metadata": {},
   "outputs": [],
   "source": [
    "!pip3 install --user -r requirements.txt\n"
   ]
  },
  {
   "cell_type": "code",
   "execution_count": 2,
   "metadata": {
    "colab": {},
    "colab_type": "code",
    "id": "qvx7v4SzqR-r"
   },
   "outputs": [
    {
     "ename": "ModuleNotFoundError",
     "evalue": "No module named 'torch'",
     "output_type": "error",
     "traceback": [
      "\u001b[1;31m---------------------------------------------------------------------------\u001b[0m",
      "\u001b[1;31mModuleNotFoundError\u001b[0m                       Traceback (most recent call last)",
      "\u001b[1;32m<ipython-input-2-60afecab2ed2>\u001b[0m in \u001b[0;36m<module>\u001b[1;34m\u001b[0m\n\u001b[1;32m----> 1\u001b[1;33m \u001b[1;32mimport\u001b[0m \u001b[0mtorch\u001b[0m\u001b[1;33m\u001b[0m\u001b[1;33m\u001b[0m\u001b[0m\n\u001b[0m\u001b[0;32m      2\u001b[0m \u001b[1;32mimport\u001b[0m \u001b[0mtorch\u001b[0m\u001b[1;33m.\u001b[0m\u001b[0mnn\u001b[0m \u001b[1;32mas\u001b[0m \u001b[0mnn\u001b[0m\u001b[1;33m\u001b[0m\u001b[1;33m\u001b[0m\u001b[0m\n\u001b[0;32m      3\u001b[0m \u001b[1;32mimport\u001b[0m \u001b[0mtorch\u001b[0m\u001b[1;33m.\u001b[0m\u001b[0moptim\u001b[0m \u001b[1;32mas\u001b[0m \u001b[0moptim\u001b[0m\u001b[1;33m\u001b[0m\u001b[1;33m\u001b[0m\u001b[0m\n\u001b[0;32m      4\u001b[0m \u001b[1;32mfrom\u001b[0m \u001b[0mtorch\u001b[0m\u001b[1;33m.\u001b[0m\u001b[0moptim\u001b[0m \u001b[1;32mimport\u001b[0m \u001b[0mlr_scheduler\u001b[0m\u001b[1;33m\u001b[0m\u001b[1;33m\u001b[0m\u001b[0m\n\u001b[0;32m      5\u001b[0m \u001b[1;32mimport\u001b[0m \u001b[0mnumpy\u001b[0m \u001b[1;32mas\u001b[0m \u001b[0mnp\u001b[0m\u001b[1;33m\u001b[0m\u001b[1;33m\u001b[0m\u001b[0m\n",
      "\u001b[1;31mModuleNotFoundError\u001b[0m: No module named 'torch'"
     ]
    }
   ],
   "source": [
    "import torch\n",
    "import torch.nn as nn\n",
    "import torch.optim as optim\n",
    "from torch.optim import lr_scheduler\n",
    "import numpy as np\n",
    "import torchvision\n",
    "from torch.utils.data.sampler import SubsetRandomSampler\n",
    "from torch.utils.data import DataLoader\n",
    "from torchvision import datasets, models, transforms\n",
    "from torchvision.transforms import Resize,ToTensor,Normalize,RandomRotation\n",
    "import matplotlib.pyplot as plt\n",
    "from sklearn.metrics import accuracy_score, precision_recall_fscore_support,confusion_matrix\n",
    "import time\n",
    "import os\n",
    "from skimage import io\n",
    "import copy\n",
    "from torch import optim, cuda\n",
    "# Useful for examining network\n",
    "from torchsummary import summary"
   ]
  },
  {
   "cell_type": "code",
   "execution_count": 3,
   "metadata": {
    "colab": {},
    "colab_type": "code",
    "id": "wv9-TW4xNmyF"
   },
   "outputs": [],
   "source": [
    "\n",
    "from IPython.core.interactiveshell import InteractiveShell\n",
    "import seaborn as sns\n",
    "\n",
    "\n",
    "import warnings\n",
    "warnings.filterwarnings('ignore', category=FutureWarning)\n",
    "\n",
    "# Image manipulations\n",
    "from PIL import Image\n",
    "\n",
    "# Timing utility\n",
    "from timeit import default_timer as timer\n",
    "\n",
    "# Visualizations\n",
    "import matplotlib.pyplot as plt\n",
    "%matplotlib inline\n",
    "plt.rcParams['font.size'] = 10\n",
    "\n",
    "# Printing out all outputs\n",
    "InteractiveShell.ast_node_interactivity = 'all'"
   ]
  },
  {
   "cell_type": "code",
   "execution_count": 4,
   "metadata": {
    "colab": {
     "base_uri": "https://localhost:8080/",
     "height": 35
    },
    "colab_type": "code",
    "id": "TYmTd501GEER",
    "outputId": "14fd267a-0f5e-4e11-8986-0176a25f8c54"
   },
   "outputs": [
    {
     "data": {
      "text/plain": [
       "2"
      ]
     },
     "execution_count": 4,
     "metadata": {},
     "output_type": "execute_result"
    }
   ],
   "source": [
    "\n",
    "CLASSES=['cat','dog']\n",
    "\n",
    "base_dir = 'train'\n",
    "\n",
    "NUM_CLASSES=len(CLASSES)\n",
    "NUM_CLASSES"
   ]
  },
  {
   "cell_type": "code",
   "execution_count": 5,
   "metadata": {
    "colab": {},
    "colab_type": "code",
    "id": "1mAi3cCrq_jz"
   },
   "outputs": [],
   "source": [
    "data_transform=transforms.Compose([\n",
    "        Resize((224,224)),\n",
    "        # RandomRotation((-40,40)),\n",
    "        ToTensor(),\n",
    "        Normalize([0.485, 0.456, 0.406], [0.229, 0.224, 0.225])\n",
    "    ])\n"
   ]
  },
  {
   "cell_type": "code",
   "execution_count": 6,
   "metadata": {
    "colab": {},
    "colab_type": "code",
    "id": "OoA6K-dfqvVx"
   },
   "outputs": [],
   "source": [
    "INPUT_SIZE = (224,224)"
   ]
  },
  {
   "cell_type": "code",
   "execution_count": 7,
   "metadata": {
    "colab": {},
    "colab_type": "code",
    "id": "2JR6SO4_1VLV"
   },
   "outputs": [],
   "source": [
    "dataset= datasets.ImageFolder(base_dir,transform=data_transform)\n"
   ]
  },
  {
   "cell_type": "code",
   "execution_count": 8,
   "metadata": {
    "colab": {
     "base_uri": "https://localhost:8080/",
     "height": 181
    },
    "colab_type": "code",
    "id": "L0efvfTG9lEY",
    "outputId": "eccb88d5-3f4f-4e4a-bfee-e4fcaf5d61f2"
   },
   "outputs": [
    {
     "name": "stdout",
     "output_type": "stream",
     "text": [
      "Dataset ImageFolder\n",
      "    Number of datapoints: 25000\n",
      "    Root location: train\n",
      "    StandardTransform\n",
      "Transform: Compose(\n",
      "               Resize(size=(224, 224), interpolation=PIL.Image.BILINEAR)\n",
      "               ToTensor()\n",
      "               Normalize(mean=[0.485, 0.456, 0.406], std=[0.229, 0.224, 0.225])\n",
      "           )\n"
     ]
    }
   ],
   "source": [
    "print(dataset)\n"
   ]
  },
  {
   "cell_type": "markdown",
   "metadata": {
    "colab_type": "text",
    "id": "AIyFe269ioCM"
   },
   "source": [
    "\n",
    "### **Dataset Analysis**\n",
    "\n"
   ]
  },
  {
   "cell_type": "code",
   "execution_count": 9,
   "metadata": {
    "colab": {
     "base_uri": "https://localhost:8080/",
     "height": 608
    },
    "colab_type": "code",
    "id": "q-vsqkmjincn",
    "outputId": "de879657-0807-4a01-f628-23447aba62dc"
   },
   "outputs": [
    {
     "name": "stdout",
     "output_type": "stream",
     "text": [
      "Analysis of the data\n",
      "cat    12500\n",
      "dog    12500\n",
      "Name: label, dtype: int64\n"
     ]
    },
    {
     "data": {
      "text/plain": [
       "<matplotlib.axes._subplots.AxesSubplot at 0x1daa1074320>"
      ]
     },
     "execution_count": 9,
     "metadata": {},
     "output_type": "execute_result"
    },
    {
     "data": {
      "image/png": "[encoded data removed]",
      "text/plain": [
       "<Figure size 432x288 with 1 Axes>"
      ]
     },
     "metadata": {
      "needs_background": "light"
     },
     "output_type": "display_data"
    }
   ],
   "source": [
    "def loadDataset(path):\n",
    "    dir = os.listdir(path)\n",
    "    X=[];\n",
    "    y=[];\n",
    "\n",
    "    for class_name in CLASSES:\n",
    "\n",
    "        files =os.listdir(os.path.join(path,class_name))\n",
    "        for f in files:\n",
    "            X.append(os.path.join(path,class_name,f))\n",
    "            y.append(class_name)        \n",
    "    return pd.DataFrame({\"path\":X,\"label\":y})\n",
    "df=loadDataset(base_dir)\n",
    "print(\"Analysis of the data\")\n",
    "print(df['label'].value_counts())\n",
    "df['label'].value_counts().plot(kind='bar')"
   ]
  },
  {
   "cell_type": "markdown",
   "metadata": {
    "colab_type": "text",
    "id": "o1s8V9Ys5_Zq"
   },
   "source": [
    "***Test Train Split***\n",
    "\n",
    "\n",
    "\n"
   ]
  },
  {
   "cell_type": "code",
   "execution_count": 10,
   "metadata": {
    "colab": {},
    "colab_type": "code",
    "id": "vEoCwZQB5-L1"
   },
   "outputs": [],
   "source": [
    "# Spliting data into 80% train 20% validation\n",
    "validation_split = .20\n",
    "shuffle_dataset = True\n",
    "random_seed= 42\n",
    "dataset_size = len(dataset)\n",
    "indices = list(range(dataset_size))\n",
    "split = int(np.floor(validation_split * dataset_size))\n",
    "if shuffle_dataset :\n",
    "    np.random.seed(random_seed)\n",
    "    np.random.shuffle(indices)\n",
    "train_indices, val_indices = indices[split:], indices[:split]\n",
    "\n",
    "# Creating PT data samplers and loaders:\n",
    "train_sampler = SubsetRandomSampler(train_indices)\n",
    "valid_sampler = SubsetRandomSampler(val_indices)"
   ]
  },
  {
   "cell_type": "markdown",
   "metadata": {
    "colab_type": "text",
    "id": "KA8pcSK37UW0"
   },
   "source": [
    "**Making test and validation data loaders**"
   ]
  },
  {
   "cell_type": "code",
   "execution_count": 11,
   "metadata": {
    "colab": {},
    "colab_type": "code",
    "id": "Xd1AXBuk1qpA"
   },
   "outputs": [],
   "source": [
    "batch_size=16\n",
    "\n",
    "train_loader = DataLoader(dataset, batch_size=batch_size, \n",
    "                                           sampler=train_sampler)\n",
    "validation_loader =DataLoader(dataset, batch_size=batch_size,\n",
    "                                                sampler=valid_sampler)\n"
   ]
  },
  {
   "cell_type": "code",
   "execution_count": 12,
   "metadata": {
    "colab": {
     "base_uri": "https://localhost:8080/",
     "height": 35
    },
    "colab_type": "code",
    "id": "waWmMylNbeKy",
    "outputId": "1bc66740-d713-47e1-ed4a-f8a25dd41a15"
   },
   "outputs": [
    {
     "data": {
      "text/plain": [
       "5000"
      ]
     },
     "execution_count": 12,
     "metadata": {},
     "output_type": "execute_result"
    }
   ],
   "source": [
    "len(validation_loader.sampler)"
   ]
  },
  {
   "cell_type": "markdown",
   "metadata": {
    "colab_type": "text",
    "id": "83ugMbjiAjTS"
   },
   "source": [
    "**Visualize Sample Images**"
   ]
  },
  {
   "cell_type": "code",
   "execution_count": 13,
   "metadata": {
    "colab": {
     "base_uri": "https://localhost:8080/",
     "height": 166
    },
    "colab_type": "code",
    "id": "vw07M7zm8FpD",
    "outputId": "f2adf7cd-9727-4018-d08c-7ebb23bdc05e"
   },
   "outputs": [
    {
     "name": "stdout",
     "output_type": "stream",
     "text": [
      "torch.Size([16, 3, 224, 224])\n"
     ]
    },
    {
     "data": {
      "image/png": "[encoded data removed]",
      "text/plain": [
       "<Figure size 432x288 with 1 Axes>"
      ]
     },
     "metadata": {
      "needs_background": "light"
     },
     "output_type": "display_data"
    }
   ],
   "source": [
    "def imshow(inp, title=None):\n",
    "    \"\"\"Imshow for Tensor.\"\"\"\n",
    "    inp = inp.numpy().transpose((1, 2, 0))\n",
    "    mean = np.array([0.485, 0.456, 0.406])\n",
    "    std = np.array([0.229, 0.224, 0.225])\n",
    "    inp = std * inp + mean\n",
    "    inp = np.clip(inp, 0, 1)\n",
    "    plt.imshow(inp)\n",
    "    if title is not None:\n",
    "        plt.title(title)\n",
    "    plt.pause(0.001)  # pause a bit so that plots are updated\n",
    "inputs, classes = next(iter(train_loader))\n",
    "out = torchvision.utils.make_grid(inputs)\n",
    "print(inputs.shape)\n",
    "imshow(out, title=[CLASSES[x] for x in classes])\n"
   ]
  },
  {
   "cell_type": "markdown",
   "metadata": {
    "colab_type": "text",
    "id": "SAt_IAEQBUll"
   },
   "source": [
    "# **Fine Tuning Pretrained**"
   ]
  },
  {
   "cell_type": "code",
   "execution_count": 14,
   "metadata": {
    "colab": {
     "base_uri": "https://localhost:8080/",
     "height": 576,
     "referenced_widgets": [
      "ecf4490229354be6abf2c4c88b523e4a",
      "7e6b5081d79f4320bbe5b001e5a34479",
      "9b6bb4d303bb494491f67a152db1fbab",
      "4c5342a66a9041189b2bc10c14d28798",
      "ddb7600eef434eeea03dee29149c4b9a",
      "3a45e6fd9aa542a99f00ada7b790328d",
      "9a502e76131e4b56a96b96b337e4b586",
      "09940213d49a4eaba1f35a020c748197"
     ]
    },
    "colab_type": "code",
    "id": "Rb3kJB1SAzyp",
    "outputId": "eafa9bb4-f7eb-488f-af4b-d991178e58a8"
   },
   "outputs": [
    {
     "name": "stdout",
     "output_type": "stream",
     "text": [
      "Train on gpu: True\n",
      "1 gpus detected.\n"
     ]
    }
   ],
   "source": [
    "# Whether to train on a gpu\n",
    "train_on_gpu = cuda.is_available()\n",
    "print(f'Train on gpu: {train_on_gpu}')\n",
    "\n",
    "# Number of gpus\n",
    "if train_on_gpu:\n",
    "    gpu_count = cuda.device_count()\n",
    "    print(f'{gpu_count} gpus detected.')\n",
    "    if gpu_count > 1:\n",
    "        multi_gpu = True\n",
    "    else:\n",
    "        multi_gpu = False\n"
   ]
  },
  {
   "cell_type": "code",
   "execution_count": 15,
   "metadata": {},
   "outputs": [],
   "source": [
    "def get_pretrained_model():\n",
    "    \"\"\"Retrieve a pre-trained model from torchvision\n",
    "\n",
    "    Return\n",
    "    --------\n",
    "        model (PyTorch model): cnn\n",
    "\n",
    "    \"\"\"\n",
    "\n",
    "    model = models.resnet50(pretrained=True)\n",
    "\n",
    "    for param in model.parameters():\n",
    "        param.requires_grad = False\n",
    "\n",
    "    n_inputs = model.fc.in_features\n",
    "    model.fc = nn.Sequential(\n",
    "        nn.Linear(n_inputs, 256), nn.ReLU(), nn.Dropout(0.2),\n",
    "        nn.Linear(256, NUM_CLASSES), nn.LogSoftmax(dim=1))\n",
    "\n",
    "    # Move to gpu and parallelize\n",
    "    if train_on_gpu:\n",
    "        model = model.to('cuda')\n",
    "\n",
    "    \n",
    "\n",
    "    return model"
   ]
  },
  {
   "cell_type": "code",
   "execution_count": 16,
   "metadata": {},
   "outputs": [],
   "source": [
    "model = get_pretrained_model()"
   ]
  },
  {
   "cell_type": "markdown",
   "metadata": {
    "colab_type": "text",
    "id": "OIJCkxNYHLmF"
   },
   "source": [
    "**Check count of Trainable and Non-Trainable Parameters**"
   ]
  },
  {
   "cell_type": "code",
   "execution_count": 17,
   "metadata": {
    "colab": {
     "base_uri": "https://localhost:8080/",
     "height": 54
    },
    "colab_type": "code",
    "id": "PRz88hJ5FUgY",
    "outputId": "4b471107-4f00-464a-f412-91870bbe1f35"
   },
   "outputs": [
    {
     "name": "stdout",
     "output_type": "stream",
     "text": [
      "24,033,090 total parameters.\n",
      "525,058 training parameters.\n"
     ]
    }
   ],
   "source": [
    "total_params = sum(p.numel() for p in model.parameters())\n",
    "print(f'{total_params:,} total parameters.')\n",
    "total_trainable_params = sum(\n",
    "    p.numel() for p in model.parameters() if p.requires_grad)\n",
    "print(f'{total_trainable_params:,} training parameters.')"
   ]
  },
  {
   "cell_type": "code",
   "execution_count": 18,
   "metadata": {
    "colab": {},
    "colab_type": "code",
    "id": "jslA_peNG8jY"
   },
   "outputs": [],
   "source": [
    "# Move to gpu\n",
    "model = model.to('cuda')"
   ]
  },
  {
   "cell_type": "markdown",
   "metadata": {
    "colab_type": "text",
    "id": "9nmoM7vWLRfD"
   },
   "source": [
    "**Print Model summary**"
   ]
  },
  {
   "cell_type": "code",
   "execution_count": 19,
   "metadata": {
    "colab": {
     "base_uri": "https://localhost:8080/",
     "height": 672
    },
    "colab_type": "code",
    "id": "3kToGP6pK_KF",
    "outputId": "ecccf5ef-fbbe-423a-ea5b-e83ebe3af15c"
   },
   "outputs": [
    {
     "name": "stdout",
     "output_type": "stream",
     "text": [
      "----------------------------------------------------------------\n",
      "        Layer (type)               Output Shape         Param #\n",
      "================================================================\n",
      "            Conv2d-1         [16, 64, 112, 112]           9,408\n",
      "       BatchNorm2d-2         [16, 64, 112, 112]             128\n",
      "              ReLU-3         [16, 64, 112, 112]               0\n",
      "         MaxPool2d-4           [16, 64, 56, 56]               0\n",
      "            Conv2d-5           [16, 64, 56, 56]           4,096\n",
      "       BatchNorm2d-6           [16, 64, 56, 56]             128\n",
      "              ReLU-7           [16, 64, 56, 56]               0\n",
      "            Conv2d-8           [16, 64, 56, 56]          36,864\n",
      "       BatchNorm2d-9           [16, 64, 56, 56]             128\n",
      "             ReLU-10           [16, 64, 56, 56]               0\n",
      "           Conv2d-11          [16, 256, 56, 56]          16,384\n",
      "      BatchNorm2d-12          [16, 256, 56, 56]             512\n",
      "           Conv2d-13          [16, 256, 56, 56]          16,384\n",
      "      BatchNorm2d-14          [16, 256, 56, 56]             512\n",
      "             ReLU-15          [16, 256, 56, 56]               0\n",
      "       Bottleneck-16          [16, 256, 56, 56]               0\n",
      "           Conv2d-17           [16, 64, 56, 56]          16,384\n",
      "      BatchNorm2d-18           [16, 64, 56, 56]             128\n",
      "             ReLU-19           [16, 64, 56, 56]               0\n",
      "           Conv2d-20           [16, 64, 56, 56]          36,864\n",
      "      BatchNorm2d-21           [16, 64, 56, 56]             128\n",
      "             ReLU-22           [16, 64, 56, 56]               0\n",
      "           Conv2d-23          [16, 256, 56, 56]          16,384\n",
      "      BatchNorm2d-24          [16, 256, 56, 56]             512\n",
      "             ReLU-25          [16, 256, 56, 56]               0\n",
      "       Bottleneck-26          [16, 256, 56, 56]               0\n",
      "           Conv2d-27           [16, 64, 56, 56]          16,384\n",
      "      BatchNorm2d-28           [16, 64, 56, 56]             128\n",
      "             ReLU-29           [16, 64, 56, 56]               0\n",
      "           Conv2d-30           [16, 64, 56, 56]          36,864\n",
      "      BatchNorm2d-31           [16, 64, 56, 56]             128\n",
      "             ReLU-32           [16, 64, 56, 56]               0\n",
      "           Conv2d-33          [16, 256, 56, 56]          16,384\n",
      "      BatchNorm2d-34          [16, 256, 56, 56]             512\n",
      "             ReLU-35          [16, 256, 56, 56]               0\n",
      "       Bottleneck-36          [16, 256, 56, 56]               0\n",
      "           Conv2d-37          [16, 128, 56, 56]          32,768\n",
      "      BatchNorm2d-38          [16, 128, 56, 56]             256\n",
      "             ReLU-39          [16, 128, 56, 56]               0\n",
      "           Conv2d-40          [16, 128, 28, 28]         147,456\n",
      "      BatchNorm2d-41          [16, 128, 28, 28]             256\n",
      "             ReLU-42          [16, 128, 28, 28]               0\n",
      "           Conv2d-43          [16, 512, 28, 28]          65,536\n",
      "      BatchNorm2d-44          [16, 512, 28, 28]           1,024\n",
      "           Conv2d-45          [16, 512, 28, 28]         131,072\n",
      "      BatchNorm2d-46          [16, 512, 28, 28]           1,024\n",
      "             ReLU-47          [16, 512, 28, 28]               0\n",
      "       Bottleneck-48          [16, 512, 28, 28]               0\n",
      "           Conv2d-49          [16, 128, 28, 28]          65,536\n",
      "      BatchNorm2d-50          [16, 128, 28, 28]             256\n",
      "             ReLU-51          [16, 128, 28, 28]               0\n",
      "           Conv2d-52          [16, 128, 28, 28]         147,456\n",
      "      BatchNorm2d-53          [16, 128, 28, 28]             256\n",
      "             ReLU-54          [16, 128, 28, 28]               0\n",
      "           Conv2d-55          [16, 512, 28, 28]          65,536\n",
      "      BatchNorm2d-56          [16, 512, 28, 28]           1,024\n",
      "             ReLU-57          [16, 512, 28, 28]               0\n",
      "       Bottleneck-58          [16, 512, 28, 28]               0\n",
      "           Conv2d-59          [16, 128, 28, 28]          65,536\n",
      "      BatchNorm2d-60          [16, 128, 28, 28]             256\n",
      "             ReLU-61          [16, 128, 28, 28]               0\n",
      "           Conv2d-62          [16, 128, 28, 28]         147,456\n",
      "      BatchNorm2d-63          [16, 128, 28, 28]             256\n",
      "             ReLU-64          [16, 128, 28, 28]               0\n",
      "           Conv2d-65          [16, 512, 28, 28]          65,536\n",
      "      BatchNorm2d-66          [16, 512, 28, 28]           1,024\n",
      "             ReLU-67          [16, 512, 28, 28]               0\n",
      "       Bottleneck-68          [16, 512, 28, 28]               0\n",
      "           Conv2d-69          [16, 128, 28, 28]          65,536\n",
      "      BatchNorm2d-70          [16, 128, 28, 28]             256\n",
      "             ReLU-71          [16, 128, 28, 28]               0\n",
      "           Conv2d-72          [16, 128, 28, 28]         147,456\n",
      "      BatchNorm2d-73          [16, 128, 28, 28]             256\n",
      "             ReLU-74          [16, 128, 28, 28]               0\n",
      "           Conv2d-75          [16, 512, 28, 28]          65,536\n",
      "      BatchNorm2d-76          [16, 512, 28, 28]           1,024\n",
      "             ReLU-77          [16, 512, 28, 28]               0\n",
      "       Bottleneck-78          [16, 512, 28, 28]               0\n",
      "           Conv2d-79          [16, 256, 28, 28]         131,072\n",
      "      BatchNorm2d-80          [16, 256, 28, 28]             512\n",
      "             ReLU-81          [16, 256, 28, 28]               0\n",
      "           Conv2d-82          [16, 256, 14, 14]         589,824\n",
      "      BatchNorm2d-83          [16, 256, 14, 14]             512\n",
      "             ReLU-84          [16, 256, 14, 14]               0\n",
      "           Conv2d-85         [16, 1024, 14, 14]         262,144\n",
      "      BatchNorm2d-86         [16, 1024, 14, 14]           2,048\n",
      "           Conv2d-87         [16, 1024, 14, 14]         524,288\n",
      "      BatchNorm2d-88         [16, 1024, 14, 14]           2,048\n",
      "             ReLU-89         [16, 1024, 14, 14]               0\n",
      "       Bottleneck-90         [16, 1024, 14, 14]               0\n",
      "           Conv2d-91          [16, 256, 14, 14]         262,144\n",
      "      BatchNorm2d-92          [16, 256, 14, 14]             512\n",
      "             ReLU-93          [16, 256, 14, 14]               0\n",
      "           Conv2d-94          [16, 256, 14, 14]         589,824\n",
      "      BatchNorm2d-95          [16, 256, 14, 14]             512\n",
      "             ReLU-96          [16, 256, 14, 14]               0\n",
      "           Conv2d-97         [16, 1024, 14, 14]         262,144\n",
      "      BatchNorm2d-98         [16, 1024, 14, 14]           2,048\n",
      "             ReLU-99         [16, 1024, 14, 14]               0\n",
      "      Bottleneck-100         [16, 1024, 14, 14]               0\n",
      "          Conv2d-101          [16, 256, 14, 14]         262,144\n",
      "     BatchNorm2d-102          [16, 256, 14, 14]             512\n",
      "            ReLU-103          [16, 256, 14, 14]               0\n",
      "          Conv2d-104          [16, 256, 14, 14]         589,824\n",
      "     BatchNorm2d-105          [16, 256, 14, 14]             512\n",
      "            ReLU-106          [16, 256, 14, 14]               0\n",
      "          Conv2d-107         [16, 1024, 14, 14]         262,144\n",
      "     BatchNorm2d-108         [16, 1024, 14, 14]           2,048\n",
      "            ReLU-109         [16, 1024, 14, 14]               0\n",
      "      Bottleneck-110         [16, 1024, 14, 14]               0\n",
      "          Conv2d-111          [16, 256, 14, 14]         262,144\n",
      "     BatchNorm2d-112          [16, 256, 14, 14]             512\n",
      "            ReLU-113          [16, 256, 14, 14]               0\n",
      "          Conv2d-114          [16, 256, 14, 14]         589,824\n",
      "     BatchNorm2d-115          [16, 256, 14, 14]             512\n",
      "            ReLU-116          [16, 256, 14, 14]               0\n",
      "          Conv2d-117         [16, 1024, 14, 14]         262,144\n",
      "     BatchNorm2d-118         [16, 1024, 14, 14]           2,048\n",
      "            ReLU-119         [16, 1024, 14, 14]               0\n",
      "      Bottleneck-120         [16, 1024, 14, 14]               0\n",
      "          Conv2d-121          [16, 256, 14, 14]         262,144\n",
      "     BatchNorm2d-122          [16, 256, 14, 14]             512\n",
      "            ReLU-123          [16, 256, 14, 14]               0\n",
      "          Conv2d-124          [16, 256, 14, 14]         589,824\n",
      "     BatchNorm2d-125          [16, 256, 14, 14]             512\n",
      "            ReLU-126          [16, 256, 14, 14]               0\n",
      "          Conv2d-127         [16, 1024, 14, 14]         262,144\n",
      "     BatchNorm2d-128         [16, 1024, 14, 14]           2,048\n",
      "            ReLU-129         [16, 1024, 14, 14]               0\n",
      "      Bottleneck-130         [16, 1024, 14, 14]               0\n",
      "          Conv2d-131          [16, 256, 14, 14]         262,144\n",
      "     BatchNorm2d-132          [16, 256, 14, 14]             512\n",
      "            ReLU-133          [16, 256, 14, 14]               0\n",
      "          Conv2d-134          [16, 256, 14, 14]         589,824\n",
      "     BatchNorm2d-135          [16, 256, 14, 14]             512\n",
      "            ReLU-136          [16, 256, 14, 14]               0\n",
      "          Conv2d-137         [16, 1024, 14, 14]         262,144\n",
      "     BatchNorm2d-138         [16, 1024, 14, 14]           2,048\n",
      "            ReLU-139         [16, 1024, 14, 14]               0\n",
      "      Bottleneck-140         [16, 1024, 14, 14]               0\n",
      "          Conv2d-141          [16, 512, 14, 14]         524,288\n",
      "     BatchNorm2d-142          [16, 512, 14, 14]           1,024\n",
      "            ReLU-143          [16, 512, 14, 14]               0\n",
      "          Conv2d-144            [16, 512, 7, 7]       2,359,296\n",
      "     BatchNorm2d-145            [16, 512, 7, 7]           1,024\n",
      "            ReLU-146            [16, 512, 7, 7]               0\n",
      "          Conv2d-147           [16, 2048, 7, 7]       1,048,576\n",
      "     BatchNorm2d-148           [16, 2048, 7, 7]           4,096\n",
      "          Conv2d-149           [16, 2048, 7, 7]       2,097,152\n",
      "     BatchNorm2d-150           [16, 2048, 7, 7]           4,096\n",
      "            ReLU-151           [16, 2048, 7, 7]               0\n",
      "      Bottleneck-152           [16, 2048, 7, 7]               0\n",
      "          Conv2d-153            [16, 512, 7, 7]       1,048,576\n",
      "     BatchNorm2d-154            [16, 512, 7, 7]           1,024\n",
      "            ReLU-155            [16, 512, 7, 7]               0\n",
      "          Conv2d-156            [16, 512, 7, 7]       2,359,296\n",
      "     BatchNorm2d-157            [16, 512, 7, 7]           1,024\n",
      "            ReLU-158            [16, 512, 7, 7]               0\n",
      "          Conv2d-159           [16, 2048, 7, 7]       1,048,576\n",
      "     BatchNorm2d-160           [16, 2048, 7, 7]           4,096\n",
      "            ReLU-161           [16, 2048, 7, 7]               0\n",
      "      Bottleneck-162           [16, 2048, 7, 7]               0\n",
      "          Conv2d-163            [16, 512, 7, 7]       1,048,576\n",
      "     BatchNorm2d-164            [16, 512, 7, 7]           1,024\n",
      "            ReLU-165            [16, 512, 7, 7]               0\n",
      "          Conv2d-166            [16, 512, 7, 7]       2,359,296\n",
      "     BatchNorm2d-167            [16, 512, 7, 7]           1,024\n",
      "            ReLU-168            [16, 512, 7, 7]               0\n",
      "          Conv2d-169           [16, 2048, 7, 7]       1,048,576\n",
      "     BatchNorm2d-170           [16, 2048, 7, 7]           4,096\n",
      "            ReLU-171           [16, 2048, 7, 7]               0\n",
      "      Bottleneck-172           [16, 2048, 7, 7]               0\n",
      "AdaptiveAvgPool2d-173           [16, 2048, 1, 1]               0\n",
      "          Linear-174                  [16, 256]         524,544\n",
      "            ReLU-175                  [16, 256]               0\n",
      "         Dropout-176                  [16, 256]               0\n",
      "          Linear-177                    [16, 2]             514\n",
      "      LogSoftmax-178                    [16, 2]               0\n",
      "================================================================\n",
      "Total params: 24,033,090\n",
      "Trainable params: 525,058\n",
      "Non-trainable params: 23,508,032\n",
      "----------------------------------------------------------------\n",
      "Input size (MB): 9.19\n",
      "Forward/backward pass size (MB): 4584.91\n",
      "Params size (MB): 91.68\n",
      "Estimated Total Size (MB): 4685.77\n",
      "----------------------------------------------------------------\n"
     ]
    }
   ],
   "source": [
    "from torchsummary import summary\n",
    "\n",
    "summary(\n",
    "        model, input_size=(3, 224, 224), batch_size=batch_size, device='cuda')"
   ]
  },
  {
   "cell_type": "code",
   "execution_count": 20,
   "metadata": {},
   "outputs": [
    {
     "data": {
      "text/plain": [
       "[(0, 'cat'), (1, 'dog')]"
      ]
     },
     "execution_count": 20,
     "metadata": {},
     "output_type": "execute_result"
    }
   ],
   "source": [
    "\n",
    "model.class_to_idx = dataset.class_to_idx\n",
    "model.idx_to_class = {\n",
    "    idx: class_\n",
    "    for class_, idx in model.class_to_idx.items()\n",
    "}\n",
    "list(model.idx_to_class.items())"
   ]
  },
  {
   "cell_type": "markdown",
   "metadata": {
    "colab_type": "text",
    "id": "r8wKbpAxJjXp"
   },
   "source": [
    "## Training Network"
   ]
  },
  {
   "cell_type": "code",
   "execution_count": 21,
   "metadata": {
    "colab": {
     "base_uri": "https://localhost:8080/",
     "height": 54
    },
    "colab_type": "code",
    "id": "nBM61M8vL4db",
    "outputId": "aa67fb82-e80f-4e22-bebb-9208db0cd979"
   },
   "outputs": [],
   "source": [
    "save_file_name = 'resnet-transfer.pt'\n",
    "checkpoint_path = 'resnet-transfer.pth'\n",
    "\n",
    "\n",
    "\n",
    "def train(model,\n",
    "          criterion,\n",
    "          optimizer,\n",
    "          train_loader,\n",
    "          valid_loader,\n",
    "          save_file_name,\n",
    "          max_epochs_stop=5,\n",
    "          n_epochs=20,\n",
    "          print_every=1):\n",
    "    \"\"\"Train a PyTorch Model\n",
    "\n",
    "    Params\n",
    "    --------\n",
    "        model (PyTorch model): cnn to train\n",
    "        criterion (PyTorch loss): objective to minimize\n",
    "        optimizer (PyTorch optimizier): optimizer to compute gradients of model parameters\n",
    "        train_loader (PyTorch dataloader): training dataloader to iterate through\n",
    "        valid_loader (PyTorch dataloader): validation dataloader used for early stopping\n",
    "        save_file_name (str ending in '.pt'): file path to save the model state dict\n",
    "        max_epochs_stop (int): maximum number of epochs with no improvement in validation loss for early stopping\n",
    "        n_epochs (int): maximum number of training epochs\n",
    "        print_every (int): frequency of epochs to print training stats\n",
    "\n",
    "    Returns\n",
    "    --------\n",
    "        model (PyTorch model): trained cnn with best weights\n",
    "        history (DataFrame): history of train and validation loss and accuracy\n",
    "    \"\"\"\n",
    "\n",
    "    # Early stopping intialization\n",
    "    epochs_no_improve = 0\n",
    "    valid_loss_min = np.Inf\n",
    "\n",
    "    valid_max_acc = 0\n",
    "    history = []\n",
    "\n",
    "    # Number of epochs already trained (if using loaded in model weights)\n",
    "    try:\n",
    "        print(f'Model has been trained for: {model.epochs} epochs.\\n')\n",
    "    except:\n",
    "        model.epochs = 0\n",
    "        print(f'Starting Training from Scratch.\\n')\n",
    "\n",
    "    overall_start = timer()\n",
    "\n",
    "    # Main loop\n",
    "    for epoch in range(n_epochs):\n",
    "\n",
    "        # keep track of training and validation loss each epoch\n",
    "        train_loss = 0.0\n",
    "        valid_loss = 0.0\n",
    "\n",
    "        train_acc = 0\n",
    "        valid_acc = 0\n",
    "        running_corrects=0\n",
    "\n",
    "        # Set to training\n",
    "        model.train()\n",
    "        start = timer()\n",
    "\n",
    "        # Training loop\n",
    "        for ii, (data, target) in enumerate(train_loader):\n",
    "            # Tensors to gpu\n",
    "            if train_on_gpu:\n",
    "                data, target = data.cuda(), target.cuda()\n",
    "\n",
    "            # Clear gradients\n",
    "            optimizer.zero_grad()\n",
    "            # Predicted outputs are log probabilities\n",
    "            output = model(data)\n",
    "\n",
    "            # Loss and backpropagation of gradients\n",
    "            loss = criterion(output, target)\n",
    "            loss.backward()\n",
    "\n",
    "            # Update the parameters\n",
    "            optimizer.step()\n",
    "\n",
    "            # Track train loss by multiplying average loss by number of examples in batch\n",
    "            train_loss += loss.item() * data.size(0)\n",
    "\n",
    "            # Calculate accuracy by finding max log probability\n",
    "            _, pred = torch.max(output, dim=1)\n",
    "            correct_tensor = pred.eq(target.data.view_as(pred))\n",
    "            # Need to convert correct tensor from int to float to average\n",
    "            accuracy = torch.mean(correct_tensor.type(torch.FloatTensor))\n",
    "            # Multiply average accuracy times the number of examples in batch\n",
    "            train_acc += accuracy.item() * data.size(0)\n",
    "\n",
    "            # Track training progress\n",
    "            print(\n",
    "                f'Epoch: {epoch}\\t{100 * (ii + 1) / len(train_loader):.2f}% complete. {timer() - start:.2f} seconds elapsed in epoch.',\n",
    "                end='\\r')\n",
    "\n",
    "        # After training loops ends, start validation\n",
    "      \n",
    "        model.epochs += 1\n",
    "\n",
    "        # Don't need to keep track of gradients\n",
    "        with torch.no_grad():\n",
    "            # Set to evaluation mode\n",
    "            model.eval()\n",
    "\n",
    "            # Validation loop\n",
    "            for data, target in valid_loader:\n",
    "                # Tensors to gpu\n",
    "                if train_on_gpu:\n",
    "                    data, target = data.cuda(), target.cuda()\n",
    "\n",
    "                # Forward pass\n",
    "                output = model(data)\n",
    "\n",
    "                # Validation loss\n",
    "                loss = criterion(output, target)\n",
    "                # Multiply average loss times the number of examples in batch\n",
    "                valid_loss += loss.item() * data.size(0)\n",
    "\n",
    "                # Calculate validation accuracy\n",
    "                _, pred = torch.max(output, dim=1)\n",
    "                running_corrects += torch.sum(pred == target.data)\n",
    "\n",
    "                # print(running_corrects,len(valid_loader.dataset))\n",
    "\n",
    "\n",
    "                correct_tensor = pred.eq(target.data.view_as(pred))\n",
    "                accuracy = torch.mean(\n",
    "                    correct_tensor.type(torch.FloatTensor))\n",
    "                # Multiply average accuracy times the number of examples\n",
    "                valid_acc += accuracy.item() * data.size(0)\n",
    "\n",
    "            # Calculate average losses\n",
    "            train_loss = train_loss / len(train_loader.sampler)\n",
    "            valid_loss = valid_loss / len(valid_loader.sampler)\n",
    "\n",
    "            # Calculate average accuracy\n",
    "            train_acc = train_acc / len(train_loader.sampler)\n",
    "            valid_acc = valid_acc / len(valid_loader.sampler)\n",
    "            epoch_acc = running_corrects.double() / len(valid_loader.sampler)\n",
    "            \n",
    "\n",
    "            history.append([train_loss, valid_loss, train_acc, valid_acc])\n",
    "\n",
    "            # Print training and validation results\n",
    "            if (epoch + 1) % print_every == 0:\n",
    "                # print(\"epoch_acc\",epoch_acc)\n",
    "                print(\n",
    "                    f'\\nEpoch: {epoch} \\tTraining Loss: {train_loss:.4f} \\tValidation Loss: {valid_loss:.4f}'\n",
    "                )\n",
    "                print(\n",
    "                    f'\\t\\tTraining Accuracy: {100 * train_acc:.2f}%\\t Validation Accuracy: {100 * valid_acc:.2f}%'\n",
    "                )\n",
    "\n",
    "            # Save the model if validation loss decreases\n",
    "            if valid_loss < valid_loss_min:\n",
    "                # Save model\n",
    "                torch.save(model.state_dict(), save_file_name)\n",
    "                # Track improvement\n",
    "                epochs_no_improve = 0\n",
    "                valid_loss_min = valid_loss\n",
    "                valid_best_acc = valid_acc\n",
    "                best_epoch = epoch\n",
    "\n",
    "            # Otherwise increment count of epochs with no improvement\n",
    "            else:\n",
    "                epochs_no_improve += 1\n",
    "                # Trigger early stopping\n",
    "                if epochs_no_improve >= max_epochs_stop:\n",
    "                    print(\n",
    "                        f'\\nEarly Stopping! Total epochs: {epoch}. Best epoch: {best_epoch} with loss: {valid_loss_min:.2f} and acc: {100 * valid_acc:.2f}%'\n",
    "                    )\n",
    "                    total_time = timer() - overall_start\n",
    "                    print(\n",
    "                        f'{total_time:.2f} total seconds elapsed. {total_time / (epoch+1):.2f} seconds per epoch.'\n",
    "                    )\n",
    "\n",
    "                    # Load the best state dict\n",
    "                    model.load_state_dict(torch.load(save_file_name))\n",
    "                    # Attach the optimizer\n",
    "                    model.optimizer = optimizer\n",
    "\n",
    "                    # Format history\n",
    "                    history = pd.DataFrame(\n",
    "                        history,\n",
    "                        columns=[\n",
    "                            'train_loss', 'valid_loss', 'train_acc',\n",
    "                            'valid_acc'\n",
    "                        ])\n",
    "                    return model, history\n",
    "\n",
    "    # Attach the optimizer\n",
    "    model.optimizer = optimizer\n",
    "    # Record overall time and print out stats\n",
    "    total_time = timer() - overall_start\n",
    "    print(\n",
    "        f'\\nBest epoch: {best_epoch} with loss: {valid_loss_min:.2f} and acc: {100 * valid_acc:.2f}%'\n",
    "    )\n",
    "    print(\n",
    "        f'{total_time:.2f} total seconds elapsed. {total_time / (epoch):.2f} seconds per epoch.'\n",
    "    )\n",
    "    print(\"\\n\\n----------------\\n\\n\")\n",
    "    # Format history\n",
    "    history = pd.DataFrame(\n",
    "        history,\n",
    "        columns=['train_loss', 'valid_loss', 'train_acc', 'valid_acc'])\n",
    "    return model, history"
   ]
  },
  {
   "cell_type": "code",
   "execution_count": 22,
   "metadata": {
    "colab": {},
    "colab_type": "code",
    "id": "4O5zKj1JHatC"
   },
   "outputs": [],
   "source": [
    "from torch import optim\n",
    "# Loss and optimizer\n",
    "criterion = nn.CrossEntropyLoss()\n",
    "# optimizer = optim.Adam(model.parameters())\n",
    "optimizer_ft = optim.SGD(model.parameters(), lr=0.001, momentum=0.9)\n"
   ]
  },
  {
   "cell_type": "code",
   "execution_count": 43,
   "metadata": {
    "colab": {
     "base_uri": "https://localhost:8080/",
     "height": 558
    },
    "colab_type": "code",
    "id": "45L9_8l1MFtP",
    "outputId": "09a4f27a-46e6-4544-e416-aaed7ee70914",
    "scrolled": true
   },
   "outputs": [
    {
     "name": "stdout",
     "output_type": "stream",
     "text": [
      "Starting Training from Scratch.\n",
      "\n",
      "Epoch: 0\t100.00% complete. 240.42 seconds elapsed in epoch.\n",
      "Epoch: 0 \tTraining Loss: 0.1334 \tValidation Loss: 0.0492\n",
      "\t\tTraining Accuracy: 95.36%\t Validation Accuracy: 98.22%\n",
      "Epoch: 1\t100.00% complete. 131.51 seconds elapsed in epoch.\n",
      "Epoch: 1 \tTraining Loss: 0.0874 \tValidation Loss: 0.0438\n",
      "\t\tTraining Accuracy: 96.59%\t Validation Accuracy: 98.42%\n",
      "\n",
      "Best epoch: 1 with loss: 0.04 and acc: 98.42%\n",
      "460.08 total seconds elapsed. 460.08 seconds per epoch.\n",
      "\n",
      "\n",
      "----------------\n",
      "\n",
      "\n"
     ]
    }
   ],
   "source": [
    "\n",
    "model, history = train(\n",
    "    model,\n",
    "    criterion,\n",
    "    optimizer_ft,\n",
    "    train_loader,\n",
    "    validation_loader,\n",
    "    save_file_name=save_file_name,\n",
    "    max_epochs_stop=2,\n",
    "    n_epochs=2,\n",
    "    print_every=1)"
   ]
  },
  {
   "cell_type": "markdown",
   "metadata": {
    "colab_type": "text",
    "id": "ab6RtsTfNOwB"
   },
   "source": [
    "**Results**"
   ]
  },
  {
   "cell_type": "code",
   "execution_count": null,
   "metadata": {
    "colab": {
     "base_uri": "https://localhost:8080/",
     "height": 329
    },
    "colab_type": "code",
    "id": "pINOhW8INOF2",
    "outputId": "38cd1ebf-cf69-46a3-be29-4523289ba4b7"
   },
   "outputs": [],
   "source": [
    "for c in ['train_loss', 'valid_loss']:\n",
    "    plt.plot(\n",
    "        history[c], label=c)\n",
    "plt.legend()\n",
    "plt.xlabel('Epoch')\n",
    "plt.ylabel('Average Negative Log Likelihood')\n",
    "plt.title('Training and Validation Losses')"
   ]
  },
  {
   "cell_type": "code",
   "execution_count": null,
   "metadata": {
    "colab": {
     "base_uri": "https://localhost:8080/",
     "height": 438
    },
    "colab_type": "code",
    "id": "4vFD2YyhW9Lu",
    "outputId": "cf37cc77-d00e-4598-c6d7-925b68ebe684"
   },
   "outputs": [],
   "source": [
    "plt.figure(figsize=(8, 6))\n",
    "for c in ['train_acc', 'valid_acc']:\n",
    "    plt.plot(\n",
    "        100 * history[c], label=c)\n",
    "plt.legend()\n",
    "plt.xlabel('Epoch')\n",
    "plt.ylabel('Average Accuracy')\n",
    "plt.title('Training and Validation Accuracy')"
   ]
  },
  {
   "cell_type": "markdown",
   "metadata": {
    "colab_type": "text",
    "id": "Yy9y2gw7CPVb"
   },
   "source": [
    "## **Inference section**"
   ]
  },
  {
   "cell_type": "code",
   "execution_count": null,
   "metadata": {
    "colab": {},
    "colab_type": "code",
    "id": "BrXsg8nWXK4B"
   },
   "outputs": [],
   "source": [
    "def evaluateModel(model,data_loader):\n",
    "\n",
    "    predictions = []\n",
    "    truth = []\n",
    "\n",
    "    with torch.no_grad():\n",
    "        # Set to evaluation mode\n",
    "        model.eval()\n",
    "\n",
    "        # Validation loop\n",
    "        for data, target in data_loader:\n",
    "            # Tensors to gpu\n",
    "            if train_on_gpu:\n",
    "                data, target = data.cuda(), target.cuda()\n",
    "\n",
    "            # Forward pass\n",
    "            output = model(data)\n",
    "\n",
    "            # Validation loss\n",
    "            loss = criterion(output, target)\n",
    "            # Calculate validation accuracy\n",
    "            _, pred = torch.max(output, dim=1)\n",
    "            predictions.extend(pred.tolist())\n",
    "            truth.extend(target.tolist())\n",
    "    return predictions,truth\n",
    "\n",
    "      \n",
    "      "
   ]
  },
  {
   "cell_type": "code",
   "execution_count": null,
   "metadata": {
    "colab": {},
    "colab_type": "code",
    "id": "XbiN4r_L9BwH"
   },
   "outputs": [],
   "source": [
    "pred,truth=evaluateModel(model,validation_loader)"
   ]
  },
  {
   "cell_type": "code",
   "execution_count": 31,
   "metadata": {
    "colab": {
     "base_uri": "https://localhost:8080/",
     "height": 588
    },
    "colab_type": "code",
    "id": "NQyaqrUN1-7g",
    "outputId": "5035ffb0-14da-42d1-8819-1e2a07bdedad"
   },
   "outputs": [
    {
     "name": "stdout",
     "output_type": "stream",
     "text": [
      "Total Test Accuracy : 98.6\n",
      "cat Test Accuracy score 98.65\n",
      "dog Test Accuracy score 98.55\n"
     ]
    },
    {
     "data": {
      "text/plain": [
       "(2, 2)"
      ]
     },
     "execution_count": 31,
     "metadata": {},
     "output_type": "execute_result"
    },
    {
     "data": {
      "image/png": "[encoded data removed]",
      "text/plain": [
       "<Figure size 432x288 with 1 Axes>"
      ]
     },
     "metadata": {},
     "output_type": "display_data"
    }
   ],
   "source": [
    "def plotConfusionMatrix(mat):\n",
    "\n",
    "    # Normalise\n",
    "    normalized_mat = mat.astype('float') /mat.sum(axis=1)[:, np.newaxis]\n",
    "\n",
    "    normalized_mat=np.around(normalized_mat*100)\n",
    "  \n",
    "    df_cm = pd.DataFrame(mat,index=CLASSES,columns=CLASSES)\n",
    "    # plt.figure(figsize=(10,7))\n",
    "    sns.set(font_scale=0.8)  # for label size\n",
    "    sns.heatmap(df_cm, annot=True, cbar=False)  # font size\n",
    "\n",
    "    plt.show()\n",
    "predictions=pred\n",
    "accuracy = accuracy_score(truth,predictions)\n",
    "confusion_mat=confusion_matrix(truth,predictions)\n",
    "precsion, recall, f1_ccore, _ = precision_recall_fscore_support(truth, predictions)\n",
    "print(\"Total Test Accuracy :\",round(accuracy*100,2))\n",
    "# print(\"Precision :\", (precsion*100))\n",
    "# print(\"Recall :\",(recall*100))\n",
    "# print(\"F1 score:\",f1_ccore*100)\n",
    "\n",
    "for i in range(0,len(CLASSES)):\n",
    "    print(CLASSES[i],\"Test Accuracy score\",round(precsion[i]*100,2))\n",
    "\n",
    "confusion_mat.shape\n",
    "plotConfusionMatrix(confusion_mat)\n"
   ]
  },
  {
   "cell_type": "code",
   "execution_count": 46,
   "metadata": {
    "colab": {},
    "colab_type": "code",
    "id": "rk8IET5xbnKW"
   },
   "outputs": [],
   "source": [
    "\n",
    "\n",
    "from math import sqrt\n",
    "def plot_images(images, cls_true, cls_pred=None):\n",
    "\n",
    "    # Create figure with 3x3 sub-plots.\n",
    "    count = len(images)\n",
    "    fig, axes = plt.subplots(int(sqrt(count)), int(sqrt(count)))\n",
    "#     fig.subplots_adjust(hspace=0.3, wspace=0.3)\n",
    "\n",
    "    for i, ax in enumerate(axes.flat):\n",
    "        # Plot image.\n",
    "        img = images[i]\n",
    "        img = np.moveaxis(img,0,-1)   \n",
    "        ax.imshow(img)\n",
    "\n",
    "\n",
    "        # Show true and predicted classes.\n",
    "        if cls_pred is None:\n",
    "            xlabel = \"True: {0}\".format(cls_true[i])\n",
    "        else:\n",
    "            xlabel = \"True: {0}, Pred: {1}\".format(cls_true[i], cls_pred[i])\n",
    "\n",
    "        # Show the classes as the label on the x-axis.\n",
    "        ax.set_xlabel(xlabel)\n",
    "\n",
    "        # Remove ticks from the plot.\n",
    "        ax.set_xticks([])\n",
    "        ax.set_yticks([])\n",
    "\n",
    "    # Ensure the plot is shown correctly with multiple plots\n",
    "    # in a single Notebook cell.\n",
    "    plt.show()\n",
    "\n",
    "\n",
    "def testRandom(model,data_loader,count =4):\n",
    "    idx=np.random.randint(0,batch_size,count)\n",
    "    \n",
    "    with torch.no_grad():\n",
    "        for i, (inputs, labels) in enumerate(data_loader):\n",
    "        \n",
    "            if train_on_gpu:\n",
    "                inputs, labels = inputs.cuda(), labels.cuda()\n",
    "\n",
    "            outputs = model(inputs)\n",
    "            _, preds = torch.max(outputs, 1)\n",
    "            img_list= np.array(inputs.tolist())[idx]\n",
    "            predicted_labels=np.array(preds.tolist())[idx]\n",
    "            true_labels = np.array(labels.tolist())[idx]\n",
    "          \n",
    "            break;\n",
    " \n",
    "    # print(imgs.shape)\n",
    "    # print(preds)\n",
    "    # print(labels)\n",
    "   \n",
    "    \n",
    "    plot_images(img_list,[CLASSES[x] for x in true_labels],[CLASSES[x] for x in predicted_labels])\n",
    "\n",
    "\n",
    "   \n"
   ]
  },
  {
   "cell_type": "code",
   "execution_count": 47,
   "metadata": {
    "colab": {},
    "colab_type": "code",
    "id": "Zt54lPeBB4A6"
   },
   "outputs": [
    {
     "name": "stderr",
     "output_type": "stream",
     "text": [
      "Clipping input data to the valid range for imshow with RGB data ([0..1] for floats or [0..255] for integers).\n",
      "Clipping input data to the valid range for imshow with RGB data ([0..1] for floats or [0..255] for integers).\n",
      "Clipping input data to the valid range for imshow with RGB data ([0..1] for floats or [0..255] for integers).\n",
      "Clipping input data to the valid range for imshow with RGB data ([0..1] for floats or [0..255] for integers).\n"
     ]
    },
    {
     "data": {
      "image/png": "[encoded data removed]",
      "text/plain": [
       "<Figure size 432x288 with 4 Axes>"
      ]
     },
     "metadata": {},
     "output_type": "display_data"
    }
   ],
   "source": [
    "testRandom(model,validation_loader)"
   ]
  },
  {
   "cell_type": "code",
   "execution_count": 23,
   "metadata": {},
   "outputs": [
    {
     "data": {
      "text/plain": [
       "<All keys matched successfully>"
      ]
     },
     "execution_count": 23,
     "metadata": {},
     "output_type": "execute_result"
    },
    {
     "data": {
      "text/plain": [
       "ResNet(\n",
       "  (conv1): Conv2d(3, 64, kernel_size=(7, 7), stride=(2, 2), padding=(3, 3), bias=False)\n",
       "  (bn1): BatchNorm2d(64, eps=1e-05, momentum=0.1, affine=True, track_running_stats=True)\n",
       "  (relu): ReLU(inplace=True)\n",
       "  (maxpool): MaxPool2d(kernel_size=3, stride=2, padding=1, dilation=1, ceil_mode=False)\n",
       "  (layer1): Sequential(\n",
       "    (0): Bottleneck(\n",
       "      (conv1): Conv2d(64, 64, kernel_size=(1, 1), stride=(1, 1), bias=False)\n",
       "      (bn1): BatchNorm2d(64, eps=1e-05, momentum=0.1, affine=True, track_running_stats=True)\n",
       "      (conv2): Conv2d(64, 64, kernel_size=(3, 3), stride=(1, 1), padding=(1, 1), bias=False)\n",
       "      (bn2): BatchNorm2d(64, eps=1e-05, momentum=0.1, affine=True, track_running_stats=True)\n",
       "      (conv3): Conv2d(64, 256, kernel_size=(1, 1), stride=(1, 1), bias=False)\n",
       "      (bn3): BatchNorm2d(256, eps=1e-05, momentum=0.1, affine=True, track_running_stats=True)\n",
       "      (relu): ReLU(inplace=True)\n",
       "      (downsample): Sequential(\n",
       "        (0): Conv2d(64, 256, kernel_size=(1, 1), stride=(1, 1), bias=False)\n",
       "        (1): BatchNorm2d(256, eps=1e-05, momentum=0.1, affine=True, track_running_stats=True)\n",
       "      )\n",
       "    )\n",
       "    (1): Bottleneck(\n",
       "      (conv1): Conv2d(256, 64, kernel_size=(1, 1), stride=(1, 1), bias=False)\n",
       "      (bn1): BatchNorm2d(64, eps=1e-05, momentum=0.1, affine=True, track_running_stats=True)\n",
       "      (conv2): Conv2d(64, 64, kernel_size=(3, 3), stride=(1, 1), padding=(1, 1), bias=False)\n",
       "      (bn2): BatchNorm2d(64, eps=1e-05, momentum=0.1, affine=True, track_running_stats=True)\n",
       "      (conv3): Conv2d(64, 256, kernel_size=(1, 1), stride=(1, 1), bias=False)\n",
       "      (bn3): BatchNorm2d(256, eps=1e-05, momentum=0.1, affine=True, track_running_stats=True)\n",
       "      (relu): ReLU(inplace=True)\n",
       "    )\n",
       "    (2): Bottleneck(\n",
       "      (conv1): Conv2d(256, 64, kernel_size=(1, 1), stride=(1, 1), bias=False)\n",
       "      (bn1): BatchNorm2d(64, eps=1e-05, momentum=0.1, affine=True, track_running_stats=True)\n",
       "      (conv2): Conv2d(64, 64, kernel_size=(3, 3), stride=(1, 1), padding=(1, 1), bias=False)\n",
       "      (bn2): BatchNorm2d(64, eps=1e-05, momentum=0.1, affine=True, track_running_stats=True)\n",
       "      (conv3): Conv2d(64, 256, kernel_size=(1, 1), stride=(1, 1), bias=False)\n",
       "      (bn3): BatchNorm2d(256, eps=1e-05, momentum=0.1, affine=True, track_running_stats=True)\n",
       "      (relu): ReLU(inplace=True)\n",
       "    )\n",
       "  )\n",
       "  (layer2): Sequential(\n",
       "    (0): Bottleneck(\n",
       "      (conv1): Conv2d(256, 128, kernel_size=(1, 1), stride=(1, 1), bias=False)\n",
       "      (bn1): BatchNorm2d(128, eps=1e-05, momentum=0.1, affine=True, track_running_stats=True)\n",
       "      (conv2): Conv2d(128, 128, kernel_size=(3, 3), stride=(2, 2), padding=(1, 1), bias=False)\n",
       "      (bn2): BatchNorm2d(128, eps=1e-05, momentum=0.1, affine=True, track_running_stats=True)\n",
       "      (conv3): Conv2d(128, 512, kernel_size=(1, 1), stride=(1, 1), bias=False)\n",
       "      (bn3): BatchNorm2d(512, eps=1e-05, momentum=0.1, affine=True, track_running_stats=True)\n",
       "      (relu): ReLU(inplace=True)\n",
       "      (downsample): Sequential(\n",
       "        (0): Conv2d(256, 512, kernel_size=(1, 1), stride=(2, 2), bias=False)\n",
       "        (1): BatchNorm2d(512, eps=1e-05, momentum=0.1, affine=True, track_running_stats=True)\n",
       "      )\n",
       "    )\n",
       "    (1): Bottleneck(\n",
       "      (conv1): Conv2d(512, 128, kernel_size=(1, 1), stride=(1, 1), bias=False)\n",
       "      (bn1): BatchNorm2d(128, eps=1e-05, momentum=0.1, affine=True, track_running_stats=True)\n",
       "      (conv2): Conv2d(128, 128, kernel_size=(3, 3), stride=(1, 1), padding=(1, 1), bias=False)\n",
       "      (bn2): BatchNorm2d(128, eps=1e-05, momentum=0.1, affine=True, track_running_stats=True)\n",
       "      (conv3): Conv2d(128, 512, kernel_size=(1, 1), stride=(1, 1), bias=False)\n",
       "      (bn3): BatchNorm2d(512, eps=1e-05, momentum=0.1, affine=True, track_running_stats=True)\n",
       "      (relu): ReLU(inplace=True)\n",
       "    )\n",
       "    (2): Bottleneck(\n",
       "      (conv1): Conv2d(512, 128, kernel_size=(1, 1), stride=(1, 1), bias=False)\n",
       "      (bn1): BatchNorm2d(128, eps=1e-05, momentum=0.1, affine=True, track_running_stats=True)\n",
       "      (conv2): Conv2d(128, 128, kernel_size=(3, 3), stride=(1, 1), padding=(1, 1), bias=False)\n",
       "      (bn2): BatchNorm2d(128, eps=1e-05, momentum=0.1, affine=True, track_running_stats=True)\n",
       "      (conv3): Conv2d(128, 512, kernel_size=(1, 1), stride=(1, 1), bias=False)\n",
       "      (bn3): BatchNorm2d(512, eps=1e-05, momentum=0.1, affine=True, track_running_stats=True)\n",
       "      (relu): ReLU(inplace=True)\n",
       "    )\n",
       "    (3): Bottleneck(\n",
       "      (conv1): Conv2d(512, 128, kernel_size=(1, 1), stride=(1, 1), bias=False)\n",
       "      (bn1): BatchNorm2d(128, eps=1e-05, momentum=0.1, affine=True, track_running_stats=True)\n",
       "      (conv2): Conv2d(128, 128, kernel_size=(3, 3), stride=(1, 1), padding=(1, 1), bias=False)\n",
       "      (bn2): BatchNorm2d(128, eps=1e-05, momentum=0.1, affine=True, track_running_stats=True)\n",
       "      (conv3): Conv2d(128, 512, kernel_size=(1, 1), stride=(1, 1), bias=False)\n",
       "      (bn3): BatchNorm2d(512, eps=1e-05, momentum=0.1, affine=True, track_running_stats=True)\n",
       "      (relu): ReLU(inplace=True)\n",
       "    )\n",
       "  )\n",
       "  (layer3): Sequential(\n",
       "    (0): Bottleneck(\n",
       "      (conv1): Conv2d(512, 256, kernel_size=(1, 1), stride=(1, 1), bias=False)\n",
       "      (bn1): BatchNorm2d(256, eps=1e-05, momentum=0.1, affine=True, track_running_stats=True)\n",
       "      (conv2): Conv2d(256, 256, kernel_size=(3, 3), stride=(2, 2), padding=(1, 1), bias=False)\n",
       "      (bn2): BatchNorm2d(256, eps=1e-05, momentum=0.1, affine=True, track_running_stats=True)\n",
       "      (conv3): Conv2d(256, 1024, kernel_size=(1, 1), stride=(1, 1), bias=False)\n",
       "      (bn3): BatchNorm2d(1024, eps=1e-05, momentum=0.1, affine=True, track_running_stats=True)\n",
       "      (relu): ReLU(inplace=True)\n",
       "      (downsample): Sequential(\n",
       "        (0): Conv2d(512, 1024, kernel_size=(1, 1), stride=(2, 2), bias=False)\n",
       "        (1): BatchNorm2d(1024, eps=1e-05, momentum=0.1, affine=True, track_running_stats=True)\n",
       "      )\n",
       "    )\n",
       "    (1): Bottleneck(\n",
       "      (conv1): Conv2d(1024, 256, kernel_size=(1, 1), stride=(1, 1), bias=False)\n",
       "      (bn1): BatchNorm2d(256, eps=1e-05, momentum=0.1, affine=True, track_running_stats=True)\n",
       "      (conv2): Conv2d(256, 256, kernel_size=(3, 3), stride=(1, 1), padding=(1, 1), bias=False)\n",
       "      (bn2): BatchNorm2d(256, eps=1e-05, momentum=0.1, affine=True, track_running_stats=True)\n",
       "      (conv3): Conv2d(256, 1024, kernel_size=(1, 1), stride=(1, 1), bias=False)\n",
       "      (bn3): BatchNorm2d(1024, eps=1e-05, momentum=0.1, affine=True, track_running_stats=True)\n",
       "      (relu): ReLU(inplace=True)\n",
       "    )\n",
       "    (2): Bottleneck(\n",
       "      (conv1): Conv2d(1024, 256, kernel_size=(1, 1), stride=(1, 1), bias=False)\n",
       "      (bn1): BatchNorm2d(256, eps=1e-05, momentum=0.1, affine=True, track_running_stats=True)\n",
       "      (conv2): Conv2d(256, 256, kernel_size=(3, 3), stride=(1, 1), padding=(1, 1), bias=False)\n",
       "      (bn2): BatchNorm2d(256, eps=1e-05, momentum=0.1, affine=True, track_running_stats=True)\n",
       "      (conv3): Conv2d(256, 1024, kernel_size=(1, 1), stride=(1, 1), bias=False)\n",
       "      (bn3): BatchNorm2d(1024, eps=1e-05, momentum=0.1, affine=True, track_running_stats=True)\n",
       "      (relu): ReLU(inplace=True)\n",
       "    )\n",
       "    (3): Bottleneck(\n",
       "      (conv1): Conv2d(1024, 256, kernel_size=(1, 1), stride=(1, 1), bias=False)\n",
       "      (bn1): BatchNorm2d(256, eps=1e-05, momentum=0.1, affine=True, track_running_stats=True)\n",
       "      (conv2): Conv2d(256, 256, kernel_size=(3, 3), stride=(1, 1), padding=(1, 1), bias=False)\n",
       "      (bn2): BatchNorm2d(256, eps=1e-05, momentum=0.1, affine=True, track_running_stats=True)\n",
       "      (conv3): Conv2d(256, 1024, kernel_size=(1, 1), stride=(1, 1), bias=False)\n",
       "      (bn3): BatchNorm2d(1024, eps=1e-05, momentum=0.1, affine=True, track_running_stats=True)\n",
       "      (relu): ReLU(inplace=True)\n",
       "    )\n",
       "    (4): Bottleneck(\n",
       "      (conv1): Conv2d(1024, 256, kernel_size=(1, 1), stride=(1, 1), bias=False)\n",
       "      (bn1): BatchNorm2d(256, eps=1e-05, momentum=0.1, affine=True, track_running_stats=True)\n",
       "      (conv2): Conv2d(256, 256, kernel_size=(3, 3), stride=(1, 1), padding=(1, 1), bias=False)\n",
       "      (bn2): BatchNorm2d(256, eps=1e-05, momentum=0.1, affine=True, track_running_stats=True)\n",
       "      (conv3): Conv2d(256, 1024, kernel_size=(1, 1), stride=(1, 1), bias=False)\n",
       "      (bn3): BatchNorm2d(1024, eps=1e-05, momentum=0.1, affine=True, track_running_stats=True)\n",
       "      (relu): ReLU(inplace=True)\n",
       "    )\n",
       "    (5): Bottleneck(\n",
       "      (conv1): Conv2d(1024, 256, kernel_size=(1, 1), stride=(1, 1), bias=False)\n",
       "      (bn1): BatchNorm2d(256, eps=1e-05, momentum=0.1, affine=True, track_running_stats=True)\n",
       "      (conv2): Conv2d(256, 256, kernel_size=(3, 3), stride=(1, 1), padding=(1, 1), bias=False)\n",
       "      (bn2): BatchNorm2d(256, eps=1e-05, momentum=0.1, affine=True, track_running_stats=True)\n",
       "      (conv3): Conv2d(256, 1024, kernel_size=(1, 1), stride=(1, 1), bias=False)\n",
       "      (bn3): BatchNorm2d(1024, eps=1e-05, momentum=0.1, affine=True, track_running_stats=True)\n",
       "      (relu): ReLU(inplace=True)\n",
       "    )\n",
       "  )\n",
       "  (layer4): Sequential(\n",
       "    (0): Bottleneck(\n",
       "      (conv1): Conv2d(1024, 512, kernel_size=(1, 1), stride=(1, 1), bias=False)\n",
       "      (bn1): BatchNorm2d(512, eps=1e-05, momentum=0.1, affine=True, track_running_stats=True)\n",
       "      (conv2): Conv2d(512, 512, kernel_size=(3, 3), stride=(2, 2), padding=(1, 1), bias=False)\n",
       "      (bn2): BatchNorm2d(512, eps=1e-05, momentum=0.1, affine=True, track_running_stats=True)\n",
       "      (conv3): Conv2d(512, 2048, kernel_size=(1, 1), stride=(1, 1), bias=False)\n",
       "      (bn3): BatchNorm2d(2048, eps=1e-05, momentum=0.1, affine=True, track_running_stats=True)\n",
       "      (relu): ReLU(inplace=True)\n",
       "      (downsample): Sequential(\n",
       "        (0): Conv2d(1024, 2048, kernel_size=(1, 1), stride=(2, 2), bias=False)\n",
       "        (1): BatchNorm2d(2048, eps=1e-05, momentum=0.1, affine=True, track_running_stats=True)\n",
       "      )\n",
       "    )\n",
       "    (1): Bottleneck(\n",
       "      (conv1): Conv2d(2048, 512, kernel_size=(1, 1), stride=(1, 1), bias=False)\n",
       "      (bn1): BatchNorm2d(512, eps=1e-05, momentum=0.1, affine=True, track_running_stats=True)\n",
       "      (conv2): Conv2d(512, 512, kernel_size=(3, 3), stride=(1, 1), padding=(1, 1), bias=False)\n",
       "      (bn2): BatchNorm2d(512, eps=1e-05, momentum=0.1, affine=True, track_running_stats=True)\n",
       "      (conv3): Conv2d(512, 2048, kernel_size=(1, 1), stride=(1, 1), bias=False)\n",
       "      (bn3): BatchNorm2d(2048, eps=1e-05, momentum=0.1, affine=True, track_running_stats=True)\n",
       "      (relu): ReLU(inplace=True)\n",
       "    )\n",
       "    (2): Bottleneck(\n",
       "      (conv1): Conv2d(2048, 512, kernel_size=(1, 1), stride=(1, 1), bias=False)\n",
       "      (bn1): BatchNorm2d(512, eps=1e-05, momentum=0.1, affine=True, track_running_stats=True)\n",
       "      (conv2): Conv2d(512, 512, kernel_size=(3, 3), stride=(1, 1), padding=(1, 1), bias=False)\n",
       "      (bn2): BatchNorm2d(512, eps=1e-05, momentum=0.1, affine=True, track_running_stats=True)\n",
       "      (conv3): Conv2d(512, 2048, kernel_size=(1, 1), stride=(1, 1), bias=False)\n",
       "      (bn3): BatchNorm2d(2048, eps=1e-05, momentum=0.1, affine=True, track_running_stats=True)\n",
       "      (relu): ReLU(inplace=True)\n",
       "    )\n",
       "  )\n",
       "  (avgpool): AdaptiveAvgPool2d(output_size=(1, 1))\n",
       "  (fc): Sequential(\n",
       "    (0): Linear(in_features=2048, out_features=256, bias=True)\n",
       "    (1): ReLU()\n",
       "    (2): Dropout(p=0.2, inplace=False)\n",
       "    (3): Linear(in_features=256, out_features=2, bias=True)\n",
       "    (4): LogSoftmax()\n",
       "  )\n",
       ")"
      ]
     },
     "execution_count": 23,
     "metadata": {},
     "output_type": "execute_result"
    },
    {
     "data": {
      "text/plain": [
       "ResNet(\n",
       "  (conv1): Conv2d(3, 64, kernel_size=(7, 7), stride=(2, 2), padding=(3, 3), bias=False)\n",
       "  (bn1): BatchNorm2d(64, eps=1e-05, momentum=0.1, affine=True, track_running_stats=True)\n",
       "  (relu): ReLU(inplace=True)\n",
       "  (maxpool): MaxPool2d(kernel_size=3, stride=2, padding=1, dilation=1, ceil_mode=False)\n",
       "  (layer1): Sequential(\n",
       "    (0): Bottleneck(\n",
       "      (conv1): Conv2d(64, 64, kernel_size=(1, 1), stride=(1, 1), bias=False)\n",
       "      (bn1): BatchNorm2d(64, eps=1e-05, momentum=0.1, affine=True, track_running_stats=True)\n",
       "      (conv2): Conv2d(64, 64, kernel_size=(3, 3), stride=(1, 1), padding=(1, 1), bias=False)\n",
       "      (bn2): BatchNorm2d(64, eps=1e-05, momentum=0.1, affine=True, track_running_stats=True)\n",
       "      (conv3): Conv2d(64, 256, kernel_size=(1, 1), stride=(1, 1), bias=False)\n",
       "      (bn3): BatchNorm2d(256, eps=1e-05, momentum=0.1, affine=True, track_running_stats=True)\n",
       "      (relu): ReLU(inplace=True)\n",
       "      (downsample): Sequential(\n",
       "        (0): Conv2d(64, 256, kernel_size=(1, 1), stride=(1, 1), bias=False)\n",
       "        (1): BatchNorm2d(256, eps=1e-05, momentum=0.1, affine=True, track_running_stats=True)\n",
       "      )\n",
       "    )\n",
       "    (1): Bottleneck(\n",
       "      (conv1): Conv2d(256, 64, kernel_size=(1, 1), stride=(1, 1), bias=False)\n",
       "      (bn1): BatchNorm2d(64, eps=1e-05, momentum=0.1, affine=True, track_running_stats=True)\n",
       "      (conv2): Conv2d(64, 64, kernel_size=(3, 3), stride=(1, 1), padding=(1, 1), bias=False)\n",
       "      (bn2): BatchNorm2d(64, eps=1e-05, momentum=0.1, affine=True, track_running_stats=True)\n",
       "      (conv3): Conv2d(64, 256, kernel_size=(1, 1), stride=(1, 1), bias=False)\n",
       "      (bn3): BatchNorm2d(256, eps=1e-05, momentum=0.1, affine=True, track_running_stats=True)\n",
       "      (relu): ReLU(inplace=True)\n",
       "    )\n",
       "    (2): Bottleneck(\n",
       "      (conv1): Conv2d(256, 64, kernel_size=(1, 1), stride=(1, 1), bias=False)\n",
       "      (bn1): BatchNorm2d(64, eps=1e-05, momentum=0.1, affine=True, track_running_stats=True)\n",
       "      (conv2): Conv2d(64, 64, kernel_size=(3, 3), stride=(1, 1), padding=(1, 1), bias=False)\n",
       "      (bn2): BatchNorm2d(64, eps=1e-05, momentum=0.1, affine=True, track_running_stats=True)\n",
       "      (conv3): Conv2d(64, 256, kernel_size=(1, 1), stride=(1, 1), bias=False)\n",
       "      (bn3): BatchNorm2d(256, eps=1e-05, momentum=0.1, affine=True, track_running_stats=True)\n",
       "      (relu): ReLU(inplace=True)\n",
       "    )\n",
       "  )\n",
       "  (layer2): Sequential(\n",
       "    (0): Bottleneck(\n",
       "      (conv1): Conv2d(256, 128, kernel_size=(1, 1), stride=(1, 1), bias=False)\n",
       "      (bn1): BatchNorm2d(128, eps=1e-05, momentum=0.1, affine=True, track_running_stats=True)\n",
       "      (conv2): Conv2d(128, 128, kernel_size=(3, 3), stride=(2, 2), padding=(1, 1), bias=False)\n",
       "      (bn2): BatchNorm2d(128, eps=1e-05, momentum=0.1, affine=True, track_running_stats=True)\n",
       "      (conv3): Conv2d(128, 512, kernel_size=(1, 1), stride=(1, 1), bias=False)\n",
       "      (bn3): BatchNorm2d(512, eps=1e-05, momentum=0.1, affine=True, track_running_stats=True)\n",
       "      (relu): ReLU(inplace=True)\n",
       "      (downsample): Sequential(\n",
       "        (0): Conv2d(256, 512, kernel_size=(1, 1), stride=(2, 2), bias=False)\n",
       "        (1): BatchNorm2d(512, eps=1e-05, momentum=0.1, affine=True, track_running_stats=True)\n",
       "      )\n",
       "    )\n",
       "    (1): Bottleneck(\n",
       "      (conv1): Conv2d(512, 128, kernel_size=(1, 1), stride=(1, 1), bias=False)\n",
       "      (bn1): BatchNorm2d(128, eps=1e-05, momentum=0.1, affine=True, track_running_stats=True)\n",
       "      (conv2): Conv2d(128, 128, kernel_size=(3, 3), stride=(1, 1), padding=(1, 1), bias=False)\n",
       "      (bn2): BatchNorm2d(128, eps=1e-05, momentum=0.1, affine=True, track_running_stats=True)\n",
       "      (conv3): Conv2d(128, 512, kernel_size=(1, 1), stride=(1, 1), bias=False)\n",
       "      (bn3): BatchNorm2d(512, eps=1e-05, momentum=0.1, affine=True, track_running_stats=True)\n",
       "      (relu): ReLU(inplace=True)\n",
       "    )\n",
       "    (2): Bottleneck(\n",
       "      (conv1): Conv2d(512, 128, kernel_size=(1, 1), stride=(1, 1), bias=False)\n",
       "      (bn1): BatchNorm2d(128, eps=1e-05, momentum=0.1, affine=True, track_running_stats=True)\n",
       "      (conv2): Conv2d(128, 128, kernel_size=(3, 3), stride=(1, 1), padding=(1, 1), bias=False)\n",
       "      (bn2): BatchNorm2d(128, eps=1e-05, momentum=0.1, affine=True, track_running_stats=True)\n",
       "      (conv3): Conv2d(128, 512, kernel_size=(1, 1), stride=(1, 1), bias=False)\n",
       "      (bn3): BatchNorm2d(512, eps=1e-05, momentum=0.1, affine=True, track_running_stats=True)\n",
       "      (relu): ReLU(inplace=True)\n",
       "    )\n",
       "    (3): Bottleneck(\n",
       "      (conv1): Conv2d(512, 128, kernel_size=(1, 1), stride=(1, 1), bias=False)\n",
       "      (bn1): BatchNorm2d(128, eps=1e-05, momentum=0.1, affine=True, track_running_stats=True)\n",
       "      (conv2): Conv2d(128, 128, kernel_size=(3, 3), stride=(1, 1), padding=(1, 1), bias=False)\n",
       "      (bn2): BatchNorm2d(128, eps=1e-05, momentum=0.1, affine=True, track_running_stats=True)\n",
       "      (conv3): Conv2d(128, 512, kernel_size=(1, 1), stride=(1, 1), bias=False)\n",
       "      (bn3): BatchNorm2d(512, eps=1e-05, momentum=0.1, affine=True, track_running_stats=True)\n",
       "      (relu): ReLU(inplace=True)\n",
       "    )\n",
       "  )\n",
       "  (layer3): Sequential(\n",
       "    (0): Bottleneck(\n",
       "      (conv1): Conv2d(512, 256, kernel_size=(1, 1), stride=(1, 1), bias=False)\n",
       "      (bn1): BatchNorm2d(256, eps=1e-05, momentum=0.1, affine=True, track_running_stats=True)\n",
       "      (conv2): Conv2d(256, 256, kernel_size=(3, 3), stride=(2, 2), padding=(1, 1), bias=False)\n",
       "      (bn2): BatchNorm2d(256, eps=1e-05, momentum=0.1, affine=True, track_running_stats=True)\n",
       "      (conv3): Conv2d(256, 1024, kernel_size=(1, 1), stride=(1, 1), bias=False)\n",
       "      (bn3): BatchNorm2d(1024, eps=1e-05, momentum=0.1, affine=True, track_running_stats=True)\n",
       "      (relu): ReLU(inplace=True)\n",
       "      (downsample): Sequential(\n",
       "        (0): Conv2d(512, 1024, kernel_size=(1, 1), stride=(2, 2), bias=False)\n",
       "        (1): BatchNorm2d(1024, eps=1e-05, momentum=0.1, affine=True, track_running_stats=True)\n",
       "      )\n",
       "    )\n",
       "    (1): Bottleneck(\n",
       "      (conv1): Conv2d(1024, 256, kernel_size=(1, 1), stride=(1, 1), bias=False)\n",
       "      (bn1): BatchNorm2d(256, eps=1e-05, momentum=0.1, affine=True, track_running_stats=True)\n",
       "      (conv2): Conv2d(256, 256, kernel_size=(3, 3), stride=(1, 1), padding=(1, 1), bias=False)\n",
       "      (bn2): BatchNorm2d(256, eps=1e-05, momentum=0.1, affine=True, track_running_stats=True)\n",
       "      (conv3): Conv2d(256, 1024, kernel_size=(1, 1), stride=(1, 1), bias=False)\n",
       "      (bn3): BatchNorm2d(1024, eps=1e-05, momentum=0.1, affine=True, track_running_stats=True)\n",
       "      (relu): ReLU(inplace=True)\n",
       "    )\n",
       "    (2): Bottleneck(\n",
       "      (conv1): Conv2d(1024, 256, kernel_size=(1, 1), stride=(1, 1), bias=False)\n",
       "      (bn1): BatchNorm2d(256, eps=1e-05, momentum=0.1, affine=True, track_running_stats=True)\n",
       "      (conv2): Conv2d(256, 256, kernel_size=(3, 3), stride=(1, 1), padding=(1, 1), bias=False)\n",
       "      (bn2): BatchNorm2d(256, eps=1e-05, momentum=0.1, affine=True, track_running_stats=True)\n",
       "      (conv3): Conv2d(256, 1024, kernel_size=(1, 1), stride=(1, 1), bias=False)\n",
       "      (bn3): BatchNorm2d(1024, eps=1e-05, momentum=0.1, affine=True, track_running_stats=True)\n",
       "      (relu): ReLU(inplace=True)\n",
       "    )\n",
       "    (3): Bottleneck(\n",
       "      (conv1): Conv2d(1024, 256, kernel_size=(1, 1), stride=(1, 1), bias=False)\n",
       "      (bn1): BatchNorm2d(256, eps=1e-05, momentum=0.1, affine=True, track_running_stats=True)\n",
       "      (conv2): Conv2d(256, 256, kernel_size=(3, 3), stride=(1, 1), padding=(1, 1), bias=False)\n",
       "      (bn2): BatchNorm2d(256, eps=1e-05, momentum=0.1, affine=True, track_running_stats=True)\n",
       "      (conv3): Conv2d(256, 1024, kernel_size=(1, 1), stride=(1, 1), bias=False)\n",
       "      (bn3): BatchNorm2d(1024, eps=1e-05, momentum=0.1, affine=True, track_running_stats=True)\n",
       "      (relu): ReLU(inplace=True)\n",
       "    )\n",
       "    (4): Bottleneck(\n",
       "      (conv1): Conv2d(1024, 256, kernel_size=(1, 1), stride=(1, 1), bias=False)\n",
       "      (bn1): BatchNorm2d(256, eps=1e-05, momentum=0.1, affine=True, track_running_stats=True)\n",
       "      (conv2): Conv2d(256, 256, kernel_size=(3, 3), stride=(1, 1), padding=(1, 1), bias=False)\n",
       "      (bn2): BatchNorm2d(256, eps=1e-05, momentum=0.1, affine=True, track_running_stats=True)\n",
       "      (conv3): Conv2d(256, 1024, kernel_size=(1, 1), stride=(1, 1), bias=False)\n",
       "      (bn3): BatchNorm2d(1024, eps=1e-05, momentum=0.1, affine=True, track_running_stats=True)\n",
       "      (relu): ReLU(inplace=True)\n",
       "    )\n",
       "    (5): Bottleneck(\n",
       "      (conv1): Conv2d(1024, 256, kernel_size=(1, 1), stride=(1, 1), bias=False)\n",
       "      (bn1): BatchNorm2d(256, eps=1e-05, momentum=0.1, affine=True, track_running_stats=True)\n",
       "      (conv2): Conv2d(256, 256, kernel_size=(3, 3), stride=(1, 1), padding=(1, 1), bias=False)\n",
       "      (bn2): BatchNorm2d(256, eps=1e-05, momentum=0.1, affine=True, track_running_stats=True)\n",
       "      (conv3): Conv2d(256, 1024, kernel_size=(1, 1), stride=(1, 1), bias=False)\n",
       "      (bn3): BatchNorm2d(1024, eps=1e-05, momentum=0.1, affine=True, track_running_stats=True)\n",
       "      (relu): ReLU(inplace=True)\n",
       "    )\n",
       "  )\n",
       "  (layer4): Sequential(\n",
       "    (0): Bottleneck(\n",
       "      (conv1): Conv2d(1024, 512, kernel_size=(1, 1), stride=(1, 1), bias=False)\n",
       "      (bn1): BatchNorm2d(512, eps=1e-05, momentum=0.1, affine=True, track_running_stats=True)\n",
       "      (conv2): Conv2d(512, 512, kernel_size=(3, 3), stride=(2, 2), padding=(1, 1), bias=False)\n",
       "      (bn2): BatchNorm2d(512, eps=1e-05, momentum=0.1, affine=True, track_running_stats=True)\n",
       "      (conv3): Conv2d(512, 2048, kernel_size=(1, 1), stride=(1, 1), bias=False)\n",
       "      (bn3): BatchNorm2d(2048, eps=1e-05, momentum=0.1, affine=True, track_running_stats=True)\n",
       "      (relu): ReLU(inplace=True)\n",
       "      (downsample): Sequential(\n",
       "        (0): Conv2d(1024, 2048, kernel_size=(1, 1), stride=(2, 2), bias=False)\n",
       "        (1): BatchNorm2d(2048, eps=1e-05, momentum=0.1, affine=True, track_running_stats=True)\n",
       "      )\n",
       "    )\n",
       "    (1): Bottleneck(\n",
       "      (conv1): Conv2d(2048, 512, kernel_size=(1, 1), stride=(1, 1), bias=False)\n",
       "      (bn1): BatchNorm2d(512, eps=1e-05, momentum=0.1, affine=True, track_running_stats=True)\n",
       "      (conv2): Conv2d(512, 512, kernel_size=(3, 3), stride=(1, 1), padding=(1, 1), bias=False)\n",
       "      (bn2): BatchNorm2d(512, eps=1e-05, momentum=0.1, affine=True, track_running_stats=True)\n",
       "      (conv3): Conv2d(512, 2048, kernel_size=(1, 1), stride=(1, 1), bias=False)\n",
       "      (bn3): BatchNorm2d(2048, eps=1e-05, momentum=0.1, affine=True, track_running_stats=True)\n",
       "      (relu): ReLU(inplace=True)\n",
       "    )\n",
       "    (2): Bottleneck(\n",
       "      (conv1): Conv2d(2048, 512, kernel_size=(1, 1), stride=(1, 1), bias=False)\n",
       "      (bn1): BatchNorm2d(512, eps=1e-05, momentum=0.1, affine=True, track_running_stats=True)\n",
       "      (conv2): Conv2d(512, 512, kernel_size=(3, 3), stride=(1, 1), padding=(1, 1), bias=False)\n",
       "      (bn2): BatchNorm2d(512, eps=1e-05, momentum=0.1, affine=True, track_running_stats=True)\n",
       "      (conv3): Conv2d(512, 2048, kernel_size=(1, 1), stride=(1, 1), bias=False)\n",
       "      (bn3): BatchNorm2d(2048, eps=1e-05, momentum=0.1, affine=True, track_running_stats=True)\n",
       "      (relu): ReLU(inplace=True)\n",
       "    )\n",
       "  )\n",
       "  (avgpool): AdaptiveAvgPool2d(output_size=(1, 1))\n",
       "  (fc): Sequential(\n",
       "    (0): Linear(in_features=2048, out_features=256, bias=True)\n",
       "    (1): ReLU()\n",
       "    (2): Dropout(p=0.2, inplace=False)\n",
       "    (3): Linear(in_features=256, out_features=2, bias=True)\n",
       "    (4): LogSoftmax()\n",
       "  )\n",
       ")"
      ]
     },
     "execution_count": 23,
     "metadata": {},
     "output_type": "execute_result"
    },
    {
     "name": "stdout",
     "output_type": "stream",
     "text": [
      "----------------------------------------------------------------\n",
      "        Layer (type)               Output Shape         Param #\n",
      "================================================================\n",
      "            Conv2d-1         [16, 64, 112, 112]           9,408\n",
      "       BatchNorm2d-2         [16, 64, 112, 112]             128\n",
      "              ReLU-3         [16, 64, 112, 112]               0\n",
      "         MaxPool2d-4           [16, 64, 56, 56]               0\n",
      "            Conv2d-5           [16, 64, 56, 56]           4,096\n",
      "       BatchNorm2d-6           [16, 64, 56, 56]             128\n",
      "              ReLU-7           [16, 64, 56, 56]               0\n",
      "            Conv2d-8           [16, 64, 56, 56]          36,864\n",
      "       BatchNorm2d-9           [16, 64, 56, 56]             128\n",
      "             ReLU-10           [16, 64, 56, 56]               0\n",
      "           Conv2d-11          [16, 256, 56, 56]          16,384\n",
      "      BatchNorm2d-12          [16, 256, 56, 56]             512\n",
      "           Conv2d-13          [16, 256, 56, 56]          16,384\n",
      "      BatchNorm2d-14          [16, 256, 56, 56]             512\n",
      "             ReLU-15          [16, 256, 56, 56]               0\n",
      "       Bottleneck-16          [16, 256, 56, 56]               0\n",
      "           Conv2d-17           [16, 64, 56, 56]          16,384\n",
      "      BatchNorm2d-18           [16, 64, 56, 56]             128\n",
      "             ReLU-19           [16, 64, 56, 56]               0\n",
      "           Conv2d-20           [16, 64, 56, 56]          36,864\n",
      "      BatchNorm2d-21           [16, 64, 56, 56]             128\n",
      "             ReLU-22           [16, 64, 56, 56]               0\n",
      "           Conv2d-23          [16, 256, 56, 56]          16,384\n",
      "      BatchNorm2d-24          [16, 256, 56, 56]             512\n",
      "             ReLU-25          [16, 256, 56, 56]               0\n",
      "       Bottleneck-26          [16, 256, 56, 56]               0\n",
      "           Conv2d-27           [16, 64, 56, 56]          16,384\n",
      "      BatchNorm2d-28           [16, 64, 56, 56]             128\n",
      "             ReLU-29           [16, 64, 56, 56]               0\n",
      "           Conv2d-30           [16, 64, 56, 56]          36,864\n",
      "      BatchNorm2d-31           [16, 64, 56, 56]             128\n",
      "             ReLU-32           [16, 64, 56, 56]               0\n",
      "           Conv2d-33          [16, 256, 56, 56]          16,384\n",
      "      BatchNorm2d-34          [16, 256, 56, 56]             512\n",
      "             ReLU-35          [16, 256, 56, 56]               0\n",
      "       Bottleneck-36          [16, 256, 56, 56]               0\n",
      "           Conv2d-37          [16, 128, 56, 56]          32,768\n",
      "      BatchNorm2d-38          [16, 128, 56, 56]             256\n",
      "             ReLU-39          [16, 128, 56, 56]               0\n",
      "           Conv2d-40          [16, 128, 28, 28]         147,456\n",
      "      BatchNorm2d-41          [16, 128, 28, 28]             256\n",
      "             ReLU-42          [16, 128, 28, 28]               0\n",
      "           Conv2d-43          [16, 512, 28, 28]          65,536\n",
      "      BatchNorm2d-44          [16, 512, 28, 28]           1,024\n",
      "           Conv2d-45          [16, 512, 28, 28]         131,072\n",
      "      BatchNorm2d-46          [16, 512, 28, 28]           1,024\n",
      "             ReLU-47          [16, 512, 28, 28]               0\n",
      "       Bottleneck-48          [16, 512, 28, 28]               0\n",
      "           Conv2d-49          [16, 128, 28, 28]          65,536\n",
      "      BatchNorm2d-50          [16, 128, 28, 28]             256\n",
      "             ReLU-51          [16, 128, 28, 28]               0\n",
      "           Conv2d-52          [16, 128, 28, 28]         147,456\n",
      "      BatchNorm2d-53          [16, 128, 28, 28]             256\n",
      "             ReLU-54          [16, 128, 28, 28]               0\n",
      "           Conv2d-55          [16, 512, 28, 28]          65,536\n",
      "      BatchNorm2d-56          [16, 512, 28, 28]           1,024\n",
      "             ReLU-57          [16, 512, 28, 28]               0\n",
      "       Bottleneck-58          [16, 512, 28, 28]               0\n",
      "           Conv2d-59          [16, 128, 28, 28]          65,536\n",
      "      BatchNorm2d-60          [16, 128, 28, 28]             256\n",
      "             ReLU-61          [16, 128, 28, 28]               0\n",
      "           Conv2d-62          [16, 128, 28, 28]         147,456\n",
      "      BatchNorm2d-63          [16, 128, 28, 28]             256\n",
      "             ReLU-64          [16, 128, 28, 28]               0\n",
      "           Conv2d-65          [16, 512, 28, 28]          65,536\n",
      "      BatchNorm2d-66          [16, 512, 28, 28]           1,024\n",
      "             ReLU-67          [16, 512, 28, 28]               0\n",
      "       Bottleneck-68          [16, 512, 28, 28]               0\n",
      "           Conv2d-69          [16, 128, 28, 28]          65,536\n",
      "      BatchNorm2d-70          [16, 128, 28, 28]             256\n",
      "             ReLU-71          [16, 128, 28, 28]               0\n",
      "           Conv2d-72          [16, 128, 28, 28]         147,456\n",
      "      BatchNorm2d-73          [16, 128, 28, 28]             256\n",
      "             ReLU-74          [16, 128, 28, 28]               0\n",
      "           Conv2d-75          [16, 512, 28, 28]          65,536\n",
      "      BatchNorm2d-76          [16, 512, 28, 28]           1,024\n",
      "             ReLU-77          [16, 512, 28, 28]               0\n",
      "       Bottleneck-78          [16, 512, 28, 28]               0\n",
      "           Conv2d-79          [16, 256, 28, 28]         131,072\n",
      "      BatchNorm2d-80          [16, 256, 28, 28]             512\n",
      "             ReLU-81          [16, 256, 28, 28]               0\n",
      "           Conv2d-82          [16, 256, 14, 14]         589,824\n",
      "      BatchNorm2d-83          [16, 256, 14, 14]             512\n",
      "             ReLU-84          [16, 256, 14, 14]               0\n",
      "           Conv2d-85         [16, 1024, 14, 14]         262,144\n",
      "      BatchNorm2d-86         [16, 1024, 14, 14]           2,048\n",
      "           Conv2d-87         [16, 1024, 14, 14]         524,288\n",
      "      BatchNorm2d-88         [16, 1024, 14, 14]           2,048\n",
      "             ReLU-89         [16, 1024, 14, 14]               0\n",
      "       Bottleneck-90         [16, 1024, 14, 14]               0\n",
      "           Conv2d-91          [16, 256, 14, 14]         262,144\n",
      "      BatchNorm2d-92          [16, 256, 14, 14]             512\n",
      "             ReLU-93          [16, 256, 14, 14]               0\n",
      "           Conv2d-94          [16, 256, 14, 14]         589,824\n",
      "      BatchNorm2d-95          [16, 256, 14, 14]             512\n",
      "             ReLU-96          [16, 256, 14, 14]               0\n",
      "           Conv2d-97         [16, 1024, 14, 14]         262,144\n",
      "      BatchNorm2d-98         [16, 1024, 14, 14]           2,048\n",
      "             ReLU-99         [16, 1024, 14, 14]               0\n",
      "      Bottleneck-100         [16, 1024, 14, 14]               0\n",
      "          Conv2d-101          [16, 256, 14, 14]         262,144\n",
      "     BatchNorm2d-102          [16, 256, 14, 14]             512\n",
      "            ReLU-103          [16, 256, 14, 14]               0\n",
      "          Conv2d-104          [16, 256, 14, 14]         589,824\n",
      "     BatchNorm2d-105          [16, 256, 14, 14]             512\n",
      "            ReLU-106          [16, 256, 14, 14]               0\n",
      "          Conv2d-107         [16, 1024, 14, 14]         262,144\n",
      "     BatchNorm2d-108         [16, 1024, 14, 14]           2,048\n",
      "            ReLU-109         [16, 1024, 14, 14]               0\n",
      "      Bottleneck-110         [16, 1024, 14, 14]               0\n",
      "          Conv2d-111          [16, 256, 14, 14]         262,144\n",
      "     BatchNorm2d-112          [16, 256, 14, 14]             512\n",
      "            ReLU-113          [16, 256, 14, 14]               0\n",
      "          Conv2d-114          [16, 256, 14, 14]         589,824\n",
      "     BatchNorm2d-115          [16, 256, 14, 14]             512\n",
      "            ReLU-116          [16, 256, 14, 14]               0\n",
      "          Conv2d-117         [16, 1024, 14, 14]         262,144\n",
      "     BatchNorm2d-118         [16, 1024, 14, 14]           2,048\n",
      "            ReLU-119         [16, 1024, 14, 14]               0\n",
      "      Bottleneck-120         [16, 1024, 14, 14]               0\n",
      "          Conv2d-121          [16, 256, 14, 14]         262,144\n",
      "     BatchNorm2d-122          [16, 256, 14, 14]             512\n",
      "            ReLU-123          [16, 256, 14, 14]               0\n",
      "          Conv2d-124          [16, 256, 14, 14]         589,824\n",
      "     BatchNorm2d-125          [16, 256, 14, 14]             512\n",
      "            ReLU-126          [16, 256, 14, 14]               0\n",
      "          Conv2d-127         [16, 1024, 14, 14]         262,144\n",
      "     BatchNorm2d-128         [16, 1024, 14, 14]           2,048\n",
      "            ReLU-129         [16, 1024, 14, 14]               0\n",
      "      Bottleneck-130         [16, 1024, 14, 14]               0\n",
      "          Conv2d-131          [16, 256, 14, 14]         262,144\n",
      "     BatchNorm2d-132          [16, 256, 14, 14]             512\n",
      "            ReLU-133          [16, 256, 14, 14]               0\n",
      "          Conv2d-134          [16, 256, 14, 14]         589,824\n",
      "     BatchNorm2d-135          [16, 256, 14, 14]             512\n",
      "            ReLU-136          [16, 256, 14, 14]               0\n",
      "          Conv2d-137         [16, 1024, 14, 14]         262,144\n",
      "     BatchNorm2d-138         [16, 1024, 14, 14]           2,048\n",
      "            ReLU-139         [16, 1024, 14, 14]               0\n",
      "      Bottleneck-140         [16, 1024, 14, 14]               0\n",
      "          Conv2d-141          [16, 512, 14, 14]         524,288\n",
      "     BatchNorm2d-142          [16, 512, 14, 14]           1,024\n",
      "            ReLU-143          [16, 512, 14, 14]               0\n",
      "          Conv2d-144            [16, 512, 7, 7]       2,359,296\n",
      "     BatchNorm2d-145            [16, 512, 7, 7]           1,024\n",
      "            ReLU-146            [16, 512, 7, 7]               0\n",
      "          Conv2d-147           [16, 2048, 7, 7]       1,048,576\n",
      "     BatchNorm2d-148           [16, 2048, 7, 7]           4,096\n",
      "          Conv2d-149           [16, 2048, 7, 7]       2,097,152\n",
      "     BatchNorm2d-150           [16, 2048, 7, 7]           4,096\n",
      "            ReLU-151           [16, 2048, 7, 7]               0\n",
      "      Bottleneck-152           [16, 2048, 7, 7]               0\n",
      "          Conv2d-153            [16, 512, 7, 7]       1,048,576\n",
      "     BatchNorm2d-154            [16, 512, 7, 7]           1,024\n",
      "            ReLU-155            [16, 512, 7, 7]               0\n",
      "          Conv2d-156            [16, 512, 7, 7]       2,359,296\n",
      "     BatchNorm2d-157            [16, 512, 7, 7]           1,024\n",
      "            ReLU-158            [16, 512, 7, 7]               0\n",
      "          Conv2d-159           [16, 2048, 7, 7]       1,048,576\n",
      "     BatchNorm2d-160           [16, 2048, 7, 7]           4,096\n",
      "            ReLU-161           [16, 2048, 7, 7]               0\n",
      "      Bottleneck-162           [16, 2048, 7, 7]               0\n",
      "          Conv2d-163            [16, 512, 7, 7]       1,048,576\n",
      "     BatchNorm2d-164            [16, 512, 7, 7]           1,024\n",
      "            ReLU-165            [16, 512, 7, 7]               0\n",
      "          Conv2d-166            [16, 512, 7, 7]       2,359,296\n",
      "     BatchNorm2d-167            [16, 512, 7, 7]           1,024\n",
      "            ReLU-168            [16, 512, 7, 7]               0\n",
      "          Conv2d-169           [16, 2048, 7, 7]       1,048,576\n",
      "     BatchNorm2d-170           [16, 2048, 7, 7]           4,096\n",
      "            ReLU-171           [16, 2048, 7, 7]               0\n",
      "      Bottleneck-172           [16, 2048, 7, 7]               0\n",
      "AdaptiveAvgPool2d-173           [16, 2048, 1, 1]               0\n",
      "          Linear-174                  [16, 256]         524,544\n",
      "            ReLU-175                  [16, 256]               0\n",
      "         Dropout-176                  [16, 256]               0\n",
      "          Linear-177                    [16, 2]             514\n",
      "      LogSoftmax-178                    [16, 2]               0\n",
      "================================================================\n",
      "Total params: 24,033,090\n",
      "Trainable params: 525,058\n",
      "Non-trainable params: 23,508,032\n",
      "----------------------------------------------------------------\n",
      "Input size (MB): 9.19\n",
      "Forward/backward pass size (MB): 4584.91\n",
      "Params size (MB): 91.68\n",
      "Estimated Total Size (MB): 4685.77\n",
      "----------------------------------------------------------------\n"
     ]
    }
   ],
   "source": [
    "my_model = get_pretrained_model()\n",
    "my_model.load_state_dict(torch.load(save_file_name))\n",
    "\n",
    "my_model.eval()\n",
    "my_model\n",
    "summary(my_model, input_size=(3, 224, 224), batch_size=batch_size)\n"
   ]
  },
  {
   "cell_type": "code",
   "execution_count": 39,
   "metadata": {},
   "outputs": [],
   "source": [
    "from PIL import Image\n",
    "\n",
    "img = Image.open('train\\dog\\dog.13.jpg')\n",
    "\n",
    "img=data_transform(img)\n",
    "# i=np.asarray(img)"
   ]
  },
  {
   "cell_type": "code",
   "execution_count": 40,
   "metadata": {},
   "outputs": [],
   "source": [
    "img_tensor=torch.unsqueeze(img,0)"
   ]
  },
  {
   "cell_type": "code",
   "execution_count": 41,
   "metadata": {},
   "outputs": [],
   "source": [
    "if train_on_gpu:\n",
    "    img_tensor = img_tensor.view(1, 3, 224, 224).cuda()\n",
    "else:\n",
    "    img_tensor = img_tensor.view(1, 3, 224, 224)\n"
   ]
  },
  {
   "cell_type": "code",
   "execution_count": 45,
   "metadata": {},
   "outputs": [
    {
     "data": {
      "text/plain": [
       "tensor([[-5.1596, -0.0058]], device='cuda:0')"
      ]
     },
     "execution_count": 45,
     "metadata": {},
     "output_type": "execute_result"
    },
    {
     "data": {
      "text/plain": [
       "tensor([[0.0057, 0.9943]], device='cuda:0')"
      ]
     },
     "execution_count": 45,
     "metadata": {},
     "output_type": "execute_result"
    },
    {
     "name": "stdout",
     "output_type": "stream",
     "text": [
      "{'cat': 0, 'dog': 1}\n"
     ]
    },
    {
     "data": {
      "text/plain": [
       "1"
      ]
     },
     "execution_count": 45,
     "metadata": {},
     "output_type": "execute_result"
    }
   ],
   "source": [
    "with torch.no_grad():\n",
    "#     model.eval()\n",
    "    # Model outputs log probabilities\n",
    "    out = my_model(img_tensor)\n",
    "    out\n",
    "    ps = torch.exp(out)\n",
    "    ps\n",
    "    _, pred = torch.max(ps, dim=1)\n",
    "    print(dataset.class_to_idx)\n",
    "    pred.item()\n",
    "    \n",
    "   \n"
   ]
  },
  {
   "cell_type": "code",
   "execution_count": null,
   "metadata": {},
   "outputs": [],
   "source": []
  },
  {
   "cell_type": "code",
   "execution_count": null,
   "metadata": {},
   "outputs": [],
   "source": []
  }
 ],
 "metadata": {
  "accelerator": "GPU",
  "colab": {
   "collapsed_sections": [],
   "name": "AlexNet Currency.ipynb",
   "provenance": []
  },
  "kernelspec": {
   "display_name": "Python 3",
   "language": "python",
   "name": "python3"
  },
  "language_info": {
   "codemirror_mode": {
    "name": "ipython",
    "version": 3
   },
   "file_extension": ".py",
   "mimetype": "text/x-python",
   "name": "python",
   "nbconvert_exporter": "python",
   "pygments_lexer": "ipython3",
   "version": "3.6.8"
  },
  "widgets": {
   "application/vnd.jupyter.widget-state+json": {
    "09940213d49a4eaba1f35a020c748197": {
     "model_module": "@jupyter-widgets/base",
     "model_name": "LayoutModel",
     "state": {
      "_model_module": "@jupyter-widgets/base",
      "_model_module_version": "1.2.0",
      "_model_name": "LayoutModel",
      "_view_count": null,
      "_view_module": "@jupyter-widgets/base",
      "_view_module_version": "1.2.0",
      "_view_name": "LayoutView",
      "align_content": null,
      "align_items": null,
      "align_self": null,
      "border": null,
      "bottom": null,
      "display": null,
      "flex": null,
      "flex_flow": null,
      "grid_area": null,
      "grid_auto_columns": null,
      "grid_auto_flow": null,
      "grid_auto_rows": null,
      "grid_column": null,
      "grid_gap": null,
      "grid_row": null,
      "grid_template_areas": null,
      "grid_template_columns": null,
      "grid_template_rows": null,
      "height": null,
      "justify_content": null,
      "justify_items": null,
      "left": null,
      "margin": null,
      "max_height": null,
      "max_width": null,
      "min_height": null,
      "min_width": null,
      "object_fit": null,
      "object_position": null,
      "order": null,
      "overflow": null,
      "overflow_x": null,
      "overflow_y": null,
      "padding": null,
      "right": null,
      "top": null,
      "visibility": null,
      "width": null
     }
    },
    "3a45e6fd9aa542a99f00ada7b790328d": {
     "model_module": "@jupyter-widgets/base",
     "model_name": "LayoutModel",
     "state": {
      "_model_module": "@jupyter-widgets/base",
      "_model_module_version": "1.2.0",
      "_model_name": "LayoutModel",
      "_view_count": null,
      "_view_module": "@jupyter-widgets/base",
      "_view_module_version": "1.2.0",
      "_view_name": "LayoutView",
      "align_content": null,
      "align_items": null,
      "align_self": null,
      "border": null,
      "bottom": null,
      "display": null,
      "flex": null,
      "flex_flow": null,
      "grid_area": null,
      "grid_auto_columns": null,
      "grid_auto_flow": null,
      "grid_auto_rows": null,
      "grid_column": null,
      "grid_gap": null,
      "grid_row": null,
      "grid_template_areas": null,
      "grid_template_columns": null,
      "grid_template_rows": null,
      "height": null,
      "justify_content": null,
      "justify_items": null,
      "left": null,
      "margin": null,
      "max_height": null,
      "max_width": null,
      "min_height": null,
      "min_width": null,
      "object_fit": null,
      "object_position": null,
      "order": null,
      "overflow": null,
      "overflow_x": null,
      "overflow_y": null,
      "padding": null,
      "right": null,
      "top": null,
      "visibility": null,
      "width": null
     }
    },
    "4c5342a66a9041189b2bc10c14d28798": {
     "model_module": "@jupyter-widgets/controls",
     "model_name": "HTMLModel",
     "state": {
      "_dom_classes": [],
      "_model_module": "@jupyter-widgets/controls",
      "_model_module_version": "1.5.0",
      "_model_name": "HTMLModel",
      "_view_count": null,
      "_view_module": "@jupyter-widgets/controls",
      "_view_module_version": "1.5.0",
      "_view_name": "HTMLView",
      "description": "",
      "description_tooltip": null,
      "layout": "IPY_MODEL_09940213d49a4eaba1f35a020c748197",
      "placeholder": "​",
      "style": "IPY_MODEL_9a502e76131e4b56a96b96b337e4b586",
      "value": " 233M/233M [03:37&lt;00:00, 1.13MB/s]"
     }
    },
    "7e6b5081d79f4320bbe5b001e5a34479": {
     "model_module": "@jupyter-widgets/base",
     "model_name": "LayoutModel",
     "state": {
      "_model_module": "@jupyter-widgets/base",
      "_model_module_version": "1.2.0",
      "_model_name": "LayoutModel",
      "_view_count": null,
      "_view_module": "@jupyter-widgets/base",
      "_view_module_version": "1.2.0",
      "_view_name": "LayoutView",
      "align_content": null,
      "align_items": null,
      "align_self": null,
      "border": null,
      "bottom": null,
      "display": null,
      "flex": null,
      "flex_flow": null,
      "grid_area": null,
      "grid_auto_columns": null,
      "grid_auto_flow": null,
      "grid_auto_rows": null,
      "grid_column": null,
      "grid_gap": null,
      "grid_row": null,
      "grid_template_areas": null,
      "grid_template_columns": null,
      "grid_template_rows": null,
      "height": null,
      "justify_content": null,
      "justify_items": null,
      "left": null,
      "margin": null,
      "max_height": null,
      "max_width": null,
      "min_height": null,
      "min_width": null,
      "object_fit": null,
      "object_position": null,
      "order": null,
      "overflow": null,
      "overflow_x": null,
      "overflow_y": null,
      "padding": null,
      "right": null,
      "top": null,
      "visibility": null,
      "width": null
     }
    },
    "9a502e76131e4b56a96b96b337e4b586": {
     "model_module": "@jupyter-widgets/controls",
     "model_name": "DescriptionStyleModel",
     "state": {
      "_model_module": "@jupyter-widgets/controls",
      "_model_module_version": "1.5.0",
      "_model_name": "DescriptionStyleModel",
      "_view_count": null,
      "_view_module": "@jupyter-widgets/base",
      "_view_module_version": "1.2.0",
      "_view_name": "StyleView",
      "description_width": ""
     }
    },
    "9b6bb4d303bb494491f67a152db1fbab": {
     "model_module": "@jupyter-widgets/controls",
     "model_name": "FloatProgressModel",
     "state": {
      "_dom_classes": [],
      "_model_module": "@jupyter-widgets/controls",
      "_model_module_version": "1.5.0",
      "_model_name": "FloatProgressModel",
      "_view_count": null,
      "_view_module": "@jupyter-widgets/controls",
      "_view_module_version": "1.5.0",
      "_view_name": "ProgressView",
      "bar_style": "success",
      "description": "100%",
      "description_tooltip": null,
      "layout": "IPY_MODEL_3a45e6fd9aa542a99f00ada7b790328d",
      "max": 244418560,
      "min": 0,
      "orientation": "horizontal",
      "style": "IPY_MODEL_ddb7600eef434eeea03dee29149c4b9a",
      "value": 244418560
     }
    },
    "ddb7600eef434eeea03dee29149c4b9a": {
     "model_module": "@jupyter-widgets/controls",
     "model_name": "ProgressStyleModel",
     "state": {
      "_model_module": "@jupyter-widgets/controls",
      "_model_module_version": "1.5.0",
      "_model_name": "ProgressStyleModel",
      "_view_count": null,
      "_view_module": "@jupyter-widgets/base",
      "_view_module_version": "1.2.0",
      "_view_name": "StyleView",
      "bar_color": null,
      "description_width": "initial"
     }
    },
    "ecf4490229354be6abf2c4c88b523e4a": {
     "model_module": "@jupyter-widgets/controls",
     "model_name": "HBoxModel",
     "state": {
      "_dom_classes": [],
      "_model_module": "@jupyter-widgets/controls",
      "_model_module_version": "1.5.0",
      "_model_name": "HBoxModel",
      "_view_count": null,
      "_view_module": "@jupyter-widgets/controls",
      "_view_module_version": "1.5.0",
      "_view_name": "HBoxView",
      "box_style": "",
      "children": [
       "IPY_MODEL_9b6bb4d303bb494491f67a152db1fbab",
       "IPY_MODEL_4c5342a66a9041189b2bc10c14d28798"
      ],
      "layout": "IPY_MODEL_7e6b5081d79f4320bbe5b001e5a34479"
     }
    }
   }
  }
 },
 "nbformat": 4,
 "nbformat_minor": 1
}
